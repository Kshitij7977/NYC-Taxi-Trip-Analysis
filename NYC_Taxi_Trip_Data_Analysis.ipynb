{
  "cells": [
    {
      "cell_type": "code",
      "execution_count": null,
      "metadata": {
        "colab": {
          "base_uri": "https://localhost:8080/"
        },
        "id": "8iLB0Hdy2lnZ",
        "outputId": "74a6b842-2f56-4e1e-b904-1d0d7ed551a3"
      },
      "outputs": [
        {
          "output_type": "stream",
          "name": "stdout",
          "text": [
            "Looking in indexes: https://pypi.org/simple, https://us-python.pkg.dev/colab-wheels/public/simple/\n",
            "Collecting pyspark\n",
            "  Downloading pyspark-3.3.1.tar.gz (281.4 MB)\n",
            "\u001b[K     |████████████████████████████████| 281.4 MB 44 kB/s \n",
            "\u001b[?25hCollecting py4j==0.10.9.5\n",
            "  Downloading py4j-0.10.9.5-py2.py3-none-any.whl (199 kB)\n",
            "\u001b[K     |████████████████████████████████| 199 kB 51.6 MB/s \n",
            "\u001b[?25hBuilding wheels for collected packages: pyspark\n",
            "  Building wheel for pyspark (setup.py) ... \u001b[?25l\u001b[?25hdone\n",
            "  Created wheel for pyspark: filename=pyspark-3.3.1-py2.py3-none-any.whl size=281845513 sha256=f9563ddc0e5d09d2f8e320243668b4034a9081fe9894873582e9693d43a515eb\n",
            "  Stored in directory: /root/.cache/pip/wheels/42/59/f5/79a5bf931714dcd201b26025347785f087370a10a3329a899c\n",
            "Successfully built pyspark\n",
            "Installing collected packages: py4j, pyspark\n",
            "Successfully installed py4j-0.10.9.5 pyspark-3.3.1\n"
          ]
        }
      ],
      "source": [
        "pip install pyspark"
      ]
    },
    {
      "cell_type": "code",
      "execution_count": null,
      "metadata": {
        "id": "jFG8MONRFWY9"
      },
      "outputs": [],
      "source": [
        "from pyspark.sql.functions import *\n",
        "from pyspark.sql import SparkSession\n",
        "spark = SparkSession.builder.appName('Capstone Project').config(\"spark.some.config.option\", \"some-value\").getOrCreate()"
      ]
    },
    {
      "cell_type": "code",
      "execution_count": null,
      "metadata": {
        "colab": {
          "base_uri": "https://localhost:8080/"
        },
        "id": "ZCXEykgo689k",
        "outputId": "49332359-70a3-414d-a62e-90a49df64cb1"
      },
      "outputs": [
        {
          "output_type": "stream",
          "name": "stdout",
          "text": [
            "root\n",
            " |-- VendorID: integer (nullable = true)\n",
            " |-- tpep_pickup_datetime: timestamp (nullable = true)\n",
            " |-- tpep_dropoff_datetime: timestamp (nullable = true)\n",
            " |-- passenger_count: integer (nullable = true)\n",
            " |-- trip_distance: double (nullable = true)\n",
            " |-- RatecodeID: integer (nullable = true)\n",
            " |-- store_and_fwd_flag: string (nullable = true)\n",
            " |-- PULocationID: integer (nullable = true)\n",
            " |-- DOLocationID: integer (nullable = true)\n",
            " |-- payment_type: integer (nullable = true)\n",
            " |-- fare_amount: double (nullable = true)\n",
            " |-- extra: double (nullable = true)\n",
            " |-- mta_tax: double (nullable = true)\n",
            " |-- tip_amount: double (nullable = true)\n",
            " |-- tolls_amount: double (nullable = true)\n",
            " |-- improvement_surcharge: double (nullable = true)\n",
            " |-- total_amount: double (nullable = true)\n",
            " |-- congestion_surcharge: double (nullable = true)\n",
            "\n"
          ]
        }
      ],
      "source": [
        "# Reading the dataset\n",
        "\n",
        "filepath = '/content/drive/MyDrive/Capstone Project/yellow_tripdata_2020-12.csv'\n",
        "dataframe = spark.read.csv(filepath, header=True, inferSchema=True)\n",
        "dataframe.printSchema()"
      ]
    },
    {
      "cell_type": "code",
      "execution_count": null,
      "metadata": {
        "colab": {
          "base_uri": "https://localhost:8080/"
        },
        "id": "2UfcBs6Lq3Ns",
        "outputId": "88f25290-c6f1-4beb-c2ae-0a6cc8a3feff"
      },
      "outputs": [
        {
          "output_type": "execute_result",
          "data": {
            "text/plain": [
              "1461897"
            ]
          },
          "metadata": {},
          "execution_count": 4
        }
      ],
      "source": [
        "# Counting the number of records in dataset\n",
        "\n",
        "dataframe.count()"
      ]
    },
    {
      "cell_type": "code",
      "execution_count": null,
      "metadata": {
        "colab": {
          "base_uri": "https://localhost:8080/"
        },
        "id": "7xFCPK04v-IN",
        "outputId": "bd1e0873-56b4-45f8-bd6e-dd90e358e571"
      },
      "outputs": [
        {
          "output_type": "stream",
          "name": "stdout",
          "text": [
            "VendorID null count : 99456\n",
            "tpep_pickup_datetime null count : 0\n",
            "tpep_dropoff_datetime null count : 0\n",
            "passenger_count null count : 99456\n",
            "trip_distance null count : 0\n",
            "RatecodeID null count : 99456\n",
            "store_and_fwd_flag null count : 99456\n",
            "PULocationID null count : 0\n",
            "DOLocationID null count : 0\n",
            "payment_type null count : 99456\n",
            "fare_amount null count : 0\n",
            "extra null count : 0\n",
            "mta_tax null count : 0\n",
            "tip_amount null count : 0\n",
            "tolls_amount null count : 0\n",
            "improvement_surcharge null count : 0\n",
            "total_amount null count : 0\n",
            "congestion_surcharge null count : 0\n"
          ]
        }
      ],
      "source": [
        "print('VendorID null count :',dataframe.filter('VendorID is null').count())\n",
        "print('tpep_pickup_datetime null count :',dataframe.filter('tpep_pickup_datetime is null').count())\n",
        "print('tpep_dropoff_datetime null count :',dataframe.filter('tpep_dropoff_datetime is null').count())\n",
        "print('passenger_count null count :',dataframe.filter('passenger_count is null').count())\n",
        "print('trip_distance null count :',dataframe.filter('trip_distance is null').count())\n",
        "print('RatecodeID null count :',dataframe.filter('RatecodeID is null').count())\n",
        "print('store_and_fwd_flag null count :',dataframe.filter('store_and_fwd_flag is null').count())\n",
        "print('PULocationID null count :',dataframe.filter('PULocationID is null').count())\n",
        "print('DOLocationID null count :',dataframe.filter('DOLocationID is null').count())\n",
        "print('payment_type null count :',dataframe.filter('payment_type is null').count())\n",
        "print('fare_amount null count :',dataframe.filter('fare_amount is null').count())\n",
        "print('extra null count :',dataframe.filter('extra is null').count())\n",
        "print('mta_tax null count :',dataframe.filter('mta_tax is null').count())\n",
        "print('tip_amount null count :',dataframe.filter('tip_amount is null').count())\n",
        "print('tolls_amount null count :',dataframe.filter('tolls_amount is null').count())\n",
        "print('improvement_surcharge null count :',dataframe.filter('improvement_surcharge is null').count())\n",
        "print('total_amount null count :',dataframe.filter('total_amount is null').count())\n",
        "print('congestion_surcharge null count :',dataframe.filter('congestion_surcharge is null').count())"
      ]
    },
    {
      "cell_type": "code",
      "execution_count": null,
      "metadata": {
        "colab": {
          "base_uri": "https://localhost:8080/"
        },
        "id": "e6YhJI6Izwwe",
        "outputId": "adb2f25f-5b77-4487-91ea-e313b0419414"
      },
      "outputs": [
        {
          "output_type": "stream",
          "name": "stdout",
          "text": [
            "+--------+------+\n",
            "|VendorID| count|\n",
            "+--------+------+\n",
            "|       1|428740|\n",
            "|       2|933701|\n",
            "|    null| 99456|\n",
            "+--------+------+\n",
            "\n"
          ]
        }
      ],
      "source": [
        "# Checking for distinct values\n",
        "\n",
        "dataframe.groupBy('VendorID').count().show()"
      ]
    },
    {
      "cell_type": "code",
      "execution_count": null,
      "metadata": {
        "colab": {
          "base_uri": "https://localhost:8080/"
        },
        "id": "vjFhtMZZv417",
        "outputId": "171bc996-60f0-4a72-ea20-2b208bd5d41c"
      },
      "outputs": [
        {
          "output_type": "stream",
          "name": "stdout",
          "text": [
            "+----------+-------+\n",
            "|RatecodeID|  count|\n",
            "+----------+-------+\n",
            "|         1|1343815|\n",
            "|         6|     10|\n",
            "|         3|   1163|\n",
            "|         5|   4888|\n",
            "|         4|    899|\n",
            "|         2|  11634|\n",
            "|        99|     32|\n",
            "|      null|  99456|\n",
            "+----------+-------+\n",
            "\n"
          ]
        }
      ],
      "source": [
        "dataframe.groupBy('RatecodeID').count().show()"
      ]
    },
    {
      "cell_type": "code",
      "execution_count": null,
      "metadata": {
        "colab": {
          "base_uri": "https://localhost:8080/"
        },
        "id": "gn6TtEIO1BXf",
        "outputId": "549d3618-671f-4744-9af5-35ece5fdb16b"
      },
      "outputs": [
        {
          "output_type": "stream",
          "name": "stdout",
          "text": [
            "+------------------+-------+\n",
            "|store_and_fwd_flag|  count|\n",
            "+------------------+-------+\n",
            "|                 Y|  19166|\n",
            "|                 N|1343275|\n",
            "|              null|  99456|\n",
            "+------------------+-------+\n",
            "\n"
          ]
        }
      ],
      "source": [
        "dataframe.groupBy('store_and_fwd_flag').count().show()"
      ]
    },
    {
      "cell_type": "code",
      "execution_count": null,
      "metadata": {
        "colab": {
          "base_uri": "https://localhost:8080/"
        },
        "id": "ziFTlE191Mqo",
        "outputId": "7fac43fc-2ec9-45df-cd8f-6260995b4a46"
      },
      "outputs": [
        {
          "output_type": "stream",
          "name": "stdout",
          "text": [
            "+------------+------+\n",
            "|payment_type| count|\n",
            "+------------+------+\n",
            "|           1|990334|\n",
            "|           3|  9017|\n",
            "|           4|  6357|\n",
            "|           2|356733|\n",
            "|        null| 99456|\n",
            "+------------+------+\n",
            "\n"
          ]
        }
      ],
      "source": [
        "dataframe.groupBy('payment_type').count().show()"
      ]
    },
    {
      "cell_type": "code",
      "execution_count": null,
      "metadata": {
        "id": "A8RQ09TT1F8M"
      },
      "outputs": [],
      "source": [
        "# Dropping NA values\n",
        "dataframe = dataframe.na.drop(how='any', subset=['VendorID'])"
      ]
    },
    {
      "cell_type": "code",
      "execution_count": null,
      "metadata": {
        "colab": {
          "base_uri": "https://localhost:8080/"
        },
        "id": "AJ8XT3me1scx",
        "outputId": "1c71fef0-42b6-42b0-f7ad-3c661cce8ff8"
      },
      "outputs": [
        {
          "output_type": "stream",
          "name": "stdout",
          "text": [
            "+--------+------+\n",
            "|VendorID| count|\n",
            "+--------+------+\n",
            "|       1|428740|\n",
            "|       2|933701|\n",
            "+--------+------+\n",
            "\n"
          ]
        }
      ],
      "source": [
        "# Validating the results\n",
        "\n",
        "dataframe.groupBy('VendorID').count().show()"
      ]
    },
    {
      "cell_type": "code",
      "execution_count": null,
      "metadata": {
        "colab": {
          "base_uri": "https://localhost:8080/"
        },
        "id": "N4lUfmE_1sTp",
        "outputId": "b2b9244c-bdf6-428d-a1b4-8f279927a624"
      },
      "outputs": [
        {
          "output_type": "stream",
          "name": "stdout",
          "text": [
            "+----------+-------+\n",
            "|RatecodeID|  count|\n",
            "+----------+-------+\n",
            "|         1|1343815|\n",
            "|         6|     10|\n",
            "|         3|   1163|\n",
            "|         5|   4888|\n",
            "|         4|    899|\n",
            "|         2|  11634|\n",
            "|        99|     32|\n",
            "+----------+-------+\n",
            "\n"
          ]
        }
      ],
      "source": [
        "dataframe.groupBy('RatecodeID').count().show()"
      ]
    },
    {
      "cell_type": "code",
      "execution_count": null,
      "metadata": {
        "colab": {
          "base_uri": "https://localhost:8080/"
        },
        "id": "ahRB74p41sN8",
        "outputId": "c5894ed0-a74a-4f77-bb35-e34cc416f990"
      },
      "outputs": [
        {
          "output_type": "stream",
          "name": "stdout",
          "text": [
            "+------------------+-------+\n",
            "|store_and_fwd_flag|  count|\n",
            "+------------------+-------+\n",
            "|                 Y|  19166|\n",
            "|                 N|1343275|\n",
            "+------------------+-------+\n",
            "\n"
          ]
        }
      ],
      "source": [
        "dataframe.groupBy('store_and_fwd_flag').count().show()"
      ]
    },
    {
      "cell_type": "code",
      "execution_count": null,
      "metadata": {
        "colab": {
          "base_uri": "https://localhost:8080/"
        },
        "id": "LSIQwSDu1r_G",
        "outputId": "2c01ed92-2c44-4824-c575-8af2d4e4fe6b"
      },
      "outputs": [
        {
          "output_type": "stream",
          "name": "stdout",
          "text": [
            "+------------+------+\n",
            "|payment_type| count|\n",
            "+------------+------+\n",
            "|           1|990334|\n",
            "|           3|  9017|\n",
            "|           4|  6357|\n",
            "|           2|356733|\n",
            "+------------+------+\n",
            "\n"
          ]
        }
      ],
      "source": [
        "dataframe.groupBy('payment_type').count().show()"
      ]
    },
    {
      "cell_type": "code",
      "execution_count": null,
      "metadata": {
        "colab": {
          "base_uri": "https://localhost:8080/"
        },
        "id": "HE4hxcFDvyaN",
        "outputId": "6eb1234f-0413-4dfe-e29b-189c18ae414a"
      },
      "outputs": [
        {
          "output_type": "stream",
          "name": "stdout",
          "text": [
            "+---------------+-------+\n",
            "|passenger_count|  count|\n",
            "+---------------+-------+\n",
            "|              1|1028740|\n",
            "|              6|  27046|\n",
            "|              3|  47548|\n",
            "|              5|  33781|\n",
            "|              9|      2|\n",
            "|              4|  18418|\n",
            "|              8|      4|\n",
            "|              2| 178704|\n",
            "|              0|  28193|\n",
            "|              7|      5|\n",
            "+---------------+-------+\n",
            "\n"
          ]
        }
      ],
      "source": [
        "dataframe.groupBy('passenger_count').count().show()"
      ]
    },
    {
      "cell_type": "code",
      "execution_count": null,
      "metadata": {
        "colab": {
          "base_uri": "https://localhost:8080/"
        },
        "id": "xYGB518UMY_Q",
        "outputId": "87305063-b117-4bd2-97f8-d235849f0a1f"
      },
      "outputs": [
        {
          "output_type": "stream",
          "name": "stdout",
          "text": [
            "VendorID null count : 0\n",
            "tpep_pickup_datetime null count : 0\n",
            "tpep_dropoff_datetime null count : 0\n",
            "passenger_count null count : 0\n",
            "trip_distance null count : 0\n",
            "RatecodeID null count : 0\n",
            "store_and_fwd_flag null count : 0\n",
            "PULocationID null count : 0\n",
            "DOLocationID null count : 0\n",
            "payment_type null count : 0\n",
            "fare_amount null count : 0\n",
            "extra null count : 0\n",
            "mta_tax null count : 0\n",
            "tip_amount null count : 0\n",
            "tolls_amount null count : 0\n",
            "improvement_surcharge null count : 0\n",
            "total_amount null count : 0\n",
            "congestion_surcharge null count : 0\n"
          ]
        }
      ],
      "source": [
        "print('VendorID null count :',dataframe.filter('VendorID is null').count())\n",
        "print('tpep_pickup_datetime null count :',dataframe.filter('tpep_pickup_datetime is null').count())\n",
        "print('tpep_dropoff_datetime null count :',dataframe.filter('tpep_dropoff_datetime is null').count())\n",
        "print('passenger_count null count :',dataframe.filter('passenger_count is null').count())\n",
        "print('trip_distance null count :',dataframe.filter('trip_distance is null').count())\n",
        "print('RatecodeID null count :',dataframe.filter('RatecodeID is null').count())\n",
        "print('store_and_fwd_flag null count :',dataframe.filter('store_and_fwd_flag is null').count())\n",
        "print('PULocationID null count :',dataframe.filter('PULocationID is null').count())\n",
        "print('DOLocationID null count :',dataframe.filter('DOLocationID is null').count())\n",
        "print('payment_type null count :',dataframe.filter('payment_type is null').count())\n",
        "print('fare_amount null count :',dataframe.filter('fare_amount is null').count())\n",
        "print('extra null count :',dataframe.filter('extra is null').count())\n",
        "print('mta_tax null count :',dataframe.filter('mta_tax is null').count())\n",
        "print('tip_amount null count :',dataframe.filter('tip_amount is null').count())\n",
        "print('tolls_amount null count :',dataframe.filter('tolls_amount is null').count())\n",
        "print('improvement_surcharge null count :',dataframe.filter('improvement_surcharge is null').count())\n",
        "print('total_amount null count :',dataframe.filter('total_amount is null').count())\n",
        "print('congestion_surcharge null count :',dataframe.filter('congestion_surcharge is null').count())"
      ]
    },
    {
      "cell_type": "code",
      "execution_count": null,
      "metadata": {
        "colab": {
          "base_uri": "https://localhost:8080/"
        },
        "id": "LyNlnXmOq-cd",
        "outputId": "7a8f3474-e01a-4dab-df29-4df8461dd19c"
      },
      "outputs": [
        {
          "output_type": "execute_result",
          "data": {
            "text/plain": [
              "1362441"
            ]
          },
          "metadata": {},
          "execution_count": 17
        }
      ],
      "source": [
        "dataframe.count()"
      ]
    },
    {
      "cell_type": "code",
      "execution_count": null,
      "metadata": {
        "colab": {
          "base_uri": "https://localhost:8080/"
        },
        "id": "35BwqLFj5M4k",
        "outputId": "b828662e-5118-452f-8e49-b8c4c3c9c932"
      },
      "outputs": [
        {
          "output_type": "stream",
          "name": "stdout",
          "text": [
            "+---------------+-------+\n",
            "|passenger_count|  count|\n",
            "+---------------+-------+\n",
            "|              1|1028740|\n",
            "|              6|  27046|\n",
            "|              3|  47548|\n",
            "|              5|  33781|\n",
            "|              9|      2|\n",
            "|              4|  18418|\n",
            "|              8|      4|\n",
            "|              2| 178704|\n",
            "|              0|  28193|\n",
            "|              7|      5|\n",
            "+---------------+-------+\n",
            "\n"
          ]
        }
      ],
      "source": [
        "dataframe.groupBy('passenger_count').count().show()"
      ]
    },
    {
      "cell_type": "code",
      "execution_count": null,
      "metadata": {
        "id": "QBrwQJXL6-AO"
      },
      "outputs": [],
      "source": [
        "# Removing entries with passenger count as 0\n",
        "dataframe = dataframe.where('passenger_count>0')"
      ]
    },
    {
      "cell_type": "code",
      "execution_count": null,
      "metadata": {
        "colab": {
          "base_uri": "https://localhost:8080/"
        },
        "id": "b6srHa7wsQbF",
        "outputId": "d1d5a230-44d4-49ec-8cab-93dcaf33f913"
      },
      "outputs": [
        {
          "output_type": "execute_result",
          "data": {
            "text/plain": [
              "1334248"
            ]
          },
          "metadata": {},
          "execution_count": 20
        }
      ],
      "source": [
        "dataframe.count()"
      ]
    },
    {
      "cell_type": "code",
      "execution_count": null,
      "metadata": {
        "colab": {
          "base_uri": "https://localhost:8080/"
        },
        "id": "0IYZDzP1Fgiy",
        "outputId": "f06d3135-2d12-4d84-cac3-491bf26338f0"
      },
      "outputs": [
        {
          "output_type": "stream",
          "name": "stdout",
          "text": [
            "total_amount negetive count : 7692\n"
          ]
        }
      ],
      "source": [
        "print('total_amount negetive count :',dataframe.filter('total_amount < 0').count())"
      ]
    },
    {
      "cell_type": "code",
      "execution_count": null,
      "metadata": {
        "colab": {
          "base_uri": "https://localhost:8080/"
        },
        "id": "Nk7YBvtwJ1js",
        "outputId": "7204bd4d-caa6-4d2b-b137-9b4a641e040d"
      },
      "outputs": [
        {
          "output_type": "stream",
          "name": "stdout",
          "text": [
            "+--------+--------------------+---------------------+---------------+-------------+----------+------------------+------------+------------+------------+-----------+-----+-------+----------+------------+---------------------+------------+--------------------+\n",
            "|VendorID|tpep_pickup_datetime|tpep_dropoff_datetime|passenger_count|trip_distance|RatecodeID|store_and_fwd_flag|PULocationID|DOLocationID|payment_type|fare_amount|extra|mta_tax|tip_amount|tolls_amount|improvement_surcharge|total_amount|congestion_surcharge|\n",
            "+--------+--------------------+---------------------+---------------+-------------+----------+------------------+------------+------------+------------+-----------+-----+-------+----------+------------+---------------------+------------+--------------------+\n",
            "|       2| 2020-12-01 00:12:06|  2020-12-01 00:37:49|              1|        11.21|         1|                 N|          48|          89|           4|      -32.0| -0.5|   -0.5|       0.0|         0.0|                 -0.3|       -35.8|                -2.5|\n",
            "|       2| 2020-12-01 00:35:15|  2020-12-01 00:37:35|              2|         0.08|         1|                 N|         141|         141|           4|       -3.5| -0.5|   -0.5|       0.0|         0.0|                 -0.3|        -7.3|                -2.5|\n",
            "|       2| 2020-12-01 00:40:16|  2020-12-01 00:42:39|              1|          0.8|         1|                 N|         263|         236|           3|       -4.5| -0.5|   -0.5|       0.0|         0.0|                 -0.3|        -8.3|                -2.5|\n",
            "|       2| 2020-12-01 00:14:04|  2020-12-01 00:18:14|              1|         0.45|         1|                 N|         107|         107|           4|       -4.5| -0.5|   -0.5|       0.0|         0.0|                 -0.3|        -8.3|                -2.5|\n",
            "|       2| 2020-12-01 01:28:23|  2020-12-01 01:28:54|              1|         0.01|         1|                 N|         230|         230|           4|       -2.5| -0.5|   -0.5|       0.0|         0.0|                 -0.3|        -6.3|                -2.5|\n",
            "|       2| 2020-12-01 01:44:01|  2020-12-01 01:55:27|              1|         2.63|         1|                 N|         239|          41|           4|      -11.0| -0.5|   -0.5|       0.0|         0.0|                 -0.3|       -14.8|                -2.5|\n",
            "|       2| 2020-12-01 02:22:26|  2020-12-01 02:23:38|              1|         0.12|         5|                 N|          69|          69|           3|       -6.0|  0.0|   -0.5|       0.0|         0.0|                 -0.3|        -6.8|                 0.0|\n",
            "|       2| 2020-12-01 03:59:56|  2020-12-01 04:03:18|              1|         1.36|         1|                 N|          90|          48|           4|       -5.5| -0.5|   -0.5|       0.0|         0.0|                 -0.3|        -9.3|                -2.5|\n",
            "|       2| 2020-12-01 05:16:06|  2020-12-01 05:21:33|              1|         2.12|         1|                 N|         141|          75|           2|       -7.5| -0.5|   -0.5|       0.0|         0.0|                 -0.3|       -11.3|                -2.5|\n",
            "|       2| 2020-12-01 05:22:44|  2020-12-01 05:29:28|              1|         1.63|         1|                 N|          75|         166|           2|       -7.0| -0.5|   -0.5|       0.0|         0.0|                 -0.3|        -8.3|                 0.0|\n",
            "|       2| 2020-12-01 05:39:22|  2020-12-01 05:41:26|              1|         0.49|         1|                 N|         100|         170|           4|       -4.0| -0.5|   -0.5|       0.0|         0.0|                 -0.3|        -7.8|                -2.5|\n",
            "|       2| 2020-12-01 06:47:43|  2020-12-01 06:52:24|              2|         0.74|         1|                 N|         100|         170|           4|       -5.5|  0.0|   -0.5|       0.0|         0.0|                 -0.3|        -8.8|                -2.5|\n",
            "|       2| 2020-12-01 06:12:05|  2020-12-01 06:31:49|              1|         8.84|         1|                 N|         229|         195|           4|      -26.0|  0.0|   -0.5|       0.0|         0.0|                 -0.3|       -29.3|                -2.5|\n",
            "|       2| 2020-12-01 06:57:46|  2020-12-01 07:00:33|              2|         0.55|         1|                 N|         263|         236|           4|       -4.0|  0.0|   -0.5|       0.0|         0.0|                 -0.3|        -7.3|                -2.5|\n",
            "|       2| 2020-12-01 06:08:23|  2020-12-01 07:50:24|              2|        75.85|         4|                 N|         132|         265|           4|     -160.0|  0.0|   -0.5|       0.0|      -13.75|                 -0.3|     -177.05|                -2.5|\n",
            "|       2| 2020-12-01 07:53:33|  2020-12-01 07:55:27|              1|         0.16|         1|                 N|          79|         144|           3|       -3.5|  0.0|   -0.5|       0.0|         0.0|                 -0.3|        -6.8|                -2.5|\n",
            "|       2| 2020-12-01 07:59:51|  2020-12-01 08:02:25|              1|         0.69|         1|                 N|         170|         137|           3|       -4.0|  0.0|   -0.5|       0.0|         0.0|                 -0.3|        -7.3|                -2.5|\n",
            "|       2| 2020-12-01 07:49:33|  2020-12-01 07:50:07|              2|         0.02|         1|                 N|          42|          42|           3|       -2.5|  0.0|   -0.5|       0.0|         0.0|                 -0.3|        -3.3|                 0.0|\n",
            "|       2| 2020-12-01 07:50:30|  2020-12-01 07:53:08|              1|         0.04|         1|                 N|         193|         193|           3|       -3.5|  0.0|   -0.5|       0.0|         0.0|                 -0.3|        -4.3|                 0.0|\n",
            "|       2| 2020-12-01 07:54:01|  2020-12-01 07:54:08|              1|          0.0|         1|                 N|         193|         193|           3|       -2.5|  0.0|   -0.5|       0.0|         0.0|                 -0.3|        -3.3|                 0.0|\n",
            "+--------+--------------------+---------------------+---------------+-------------+----------+------------------+------------+------------+------------+-----------+-----+-------+----------+------------+---------------------+------------+--------------------+\n",
            "only showing top 20 rows\n",
            "\n"
          ]
        }
      ],
      "source": [
        "dataframe.filter('total_amount < 0').show()"
      ]
    },
    {
      "cell_type": "code",
      "execution_count": null,
      "metadata": {
        "colab": {
          "base_uri": "https://localhost:8080/"
        },
        "id": "0Ih23AnF8hXm",
        "outputId": "b75c36fb-2dd7-4298-d5ef-bc80f7ad1ec4"
      },
      "outputs": [
        {
          "output_type": "stream",
          "name": "stdout",
          "text": [
            "+------------+-----+\n",
            "|total_amount|count|\n",
            "+------------+-----+\n",
            "|        49.8|  168|\n",
            "|        56.8|   91|\n",
            "|       58.92|  401|\n",
            "|        9.13|  838|\n",
            "|        14.9|  142|\n",
            "|        13.4|   53|\n",
            "|       244.8|    1|\n",
            "|        15.5|  234|\n",
            "|        69.8|   50|\n",
            "|       61.78|    4|\n",
            "|       41.42|  187|\n",
            "|       46.15|   30|\n",
            "|       19.98|    7|\n",
            "|       12.32|   19|\n",
            "|       70.07|    4|\n",
            "|       17.52|   13|\n",
            "|       37.81|    3|\n",
            "|       43.03|   10|\n",
            "|        98.3|    5|\n",
            "|       60.17|   15|\n",
            "+------------+-----+\n",
            "only showing top 20 rows\n",
            "\n"
          ]
        }
      ],
      "source": [
        "# Finding records with total_amount > 0\n",
        "dataframe = dataframe.where('total_amount>0')\n",
        "dataframe.groupBy('total_amount').count().show()"
      ]
    },
    {
      "cell_type": "code",
      "execution_count": null,
      "metadata": {
        "colab": {
          "base_uri": "https://localhost:8080/"
        },
        "id": "IIX3K2mJKDl3",
        "outputId": "859f5437-ef47-488d-a052-5f36368c6452"
      },
      "outputs": [
        {
          "output_type": "stream",
          "name": "stdout",
          "text": [
            "total_amount negetive count : 0\n"
          ]
        }
      ],
      "source": [
        "print('total_amount negetive count :',dataframe.filter('total_amount < 0').count())"
      ]
    },
    {
      "cell_type": "code",
      "execution_count": null,
      "metadata": {
        "colab": {
          "base_uri": "https://localhost:8080/"
        },
        "id": "nNPWoH5wFX9i",
        "outputId": "e8430d0b-8743-4ee1-e235-0a087865a1c9"
      },
      "outputs": [
        {
          "output_type": "execute_result",
          "data": {
            "text/plain": [
              "1326065"
            ]
          },
          "metadata": {},
          "execution_count": 25
        }
      ],
      "source": [
        "dataframe.count()"
      ]
    },
    {
      "cell_type": "code",
      "execution_count": null,
      "metadata": {
        "id": "BJmXF0bX-s8a"
      },
      "outputs": [],
      "source": [
        "dataframe = dataframe.where('tpep_dropoff_datetime > tpep_pickup_datetime')"
      ]
    },
    {
      "cell_type": "code",
      "execution_count": null,
      "metadata": {
        "colab": {
          "base_uri": "https://localhost:8080/"
        },
        "id": "PVnpQYjpL2_e",
        "outputId": "8847356d-54e4-41ba-bd6d-de22b83d61a6"
      },
      "outputs": [
        {
          "output_type": "execute_result",
          "data": {
            "text/plain": [
              "1325432"
            ]
          },
          "metadata": {},
          "execution_count": 27
        }
      ],
      "source": [
        "dataframe.count()"
      ]
    },
    {
      "cell_type": "code",
      "execution_count": null,
      "metadata": {
        "colab": {
          "base_uri": "https://localhost:8080/"
        },
        "id": "8C2LPUc7Tngo",
        "outputId": "f302708b-544b-415b-d0ed-7497833e2c8e"
      },
      "outputs": [
        {
          "output_type": "stream",
          "name": "stdout",
          "text": [
            "trip_distance negetive count : 0\n"
          ]
        }
      ],
      "source": [
        "print('trip_distance negetive count :',dataframe.filter('trip_distance < 0').count())"
      ]
    },
    {
      "cell_type": "code",
      "execution_count": null,
      "metadata": {
        "colab": {
          "base_uri": "https://localhost:8080/"
        },
        "id": "7zKT01pCTwKz",
        "outputId": "5af50402-1893-43d4-ce5c-74b2f764755f"
      },
      "outputs": [
        {
          "output_type": "execute_result",
          "data": {
            "text/plain": [
              "1325432"
            ]
          },
          "metadata": {},
          "execution_count": 29
        }
      ],
      "source": [
        "dataframe.count()"
      ]
    },
    {
      "cell_type": "code",
      "execution_count": null,
      "metadata": {
        "colab": {
          "base_uri": "https://localhost:8080/"
        },
        "id": "WKjTTK6WWXd1",
        "outputId": "93703bbc-dd4f-42f0-c1ed-6905d6160111"
      },
      "outputs": [
        {
          "output_type": "execute_result",
          "data": {
            "text/plain": [
              "13762"
            ]
          },
          "metadata": {},
          "execution_count": 30
        }
      ],
      "source": [
        "dataframe.filter('trip_distance = 0').count()"
      ]
    },
    {
      "cell_type": "code",
      "execution_count": null,
      "metadata": {
        "id": "cWfrBHEYNOqm"
      },
      "outputs": [],
      "source": [
        "# Removing rows with trip distance less than 0\n",
        "# Removing entries with passenger count as 0\n",
        "dataframe = dataframe.where('trip_distance != 0')"
      ]
    },
    {
      "cell_type": "code",
      "execution_count": null,
      "metadata": {
        "colab": {
          "base_uri": "https://localhost:8080/"
        },
        "id": "-05LkeO_T1M7",
        "outputId": "d7aaf240-fc74-413f-972f-6f7e982ea61e"
      },
      "outputs": [
        {
          "output_type": "execute_result",
          "data": {
            "text/plain": [
              "1311670"
            ]
          },
          "metadata": {},
          "execution_count": 32
        }
      ],
      "source": [
        "dataframe.count()"
      ]
    },
    {
      "cell_type": "code",
      "execution_count": null,
      "metadata": {
        "id": "c90VE-WxFXU6"
      },
      "outputs": [],
      "source": [
        "# Splitting pickup datetime column into Date, Day, Month, Year, Hour, Minute, Seconds \n",
        "from pyspark.sql.functions import to_timestamp,date_format\n",
        "from pyspark.sql.functions import col\n",
        " \n",
        "dataframe = dataframe.withColumn(\"tpep_pickup_datetime\",\n",
        "                     to_timestamp(col(\"tpep_pickup_datetime\"))).withColumn(\"Pickup_Date\", date_format(col(\"tpep_pickup_datetime\"), \"d\"))\n",
        "dataframe = dataframe.withColumn(\"tpep_pickup_datetime\",\n",
        "                     to_timestamp(col(\"tpep_pickup_datetime\"))).withColumn(\"Pickup_Day\", date_format(col(\"tpep_pickup_datetime\"), \"E\"))\n",
        "dataframe = dataframe.withColumn(\"tpep_pickup_datetime\",\n",
        "                     to_timestamp(col(\"tpep_pickup_datetime\"))).withColumn(\"Pickup_Month\", date_format(col(\"tpep_pickup_datetime\"), \"M\"))\n",
        "dataframe = dataframe.withColumn(\"tpep_pickup_datetime\",\n",
        "                     to_timestamp(col(\"tpep_pickup_datetime\"))).withColumn(\"Pickup_Year\", date_format(col(\"tpep_pickup_datetime\"), \"y\"))\n",
        "dataframe = dataframe.withColumn(\"tpep_pickup_datetime\",\n",
        "                     to_timestamp(col(\"tpep_pickup_datetime\"))).withColumn(\"Pickup_Hour\", date_format(col(\"tpep_pickup_datetime\"), \"H\"))\n",
        "dataframe = dataframe.withColumn(\"tpep_pickup_datetime\",\n",
        "                     to_timestamp(col(\"tpep_pickup_datetime\"))).withColumn(\"Pickup_Minute\", date_format(col(\"tpep_pickup_datetime\"), \"m\"))\n",
        "dataframe = dataframe.withColumn(\"tpep_pickup_datetime\",\n",
        "                     to_timestamp(col(\"tpep_pickup_datetime\"))).withColumn(\"Pickup_Second\", date_format(col(\"tpep_pickup_datetime\"), \"s\"))   "
      ]
    },
    {
      "cell_type": "code",
      "execution_count": null,
      "metadata": {
        "id": "UtGZxw9DlXcY"
      },
      "outputs": [],
      "source": [
        "# Splitting dropoff datetime column into Date, Day, Month, Year, Hour, Minute, Seconds \n",
        "dataframe = dataframe.withColumn(\"tpep_dropoff_datetime\",\n",
        "                     to_timestamp(col(\"tpep_dropoff_datetime\"))).withColumn(\"Dropoff_Date\", date_format(col(\"tpep_dropoff_datetime\"), \"d\"))\n",
        "dataframe = dataframe.withColumn(\"tpep_dropoff_datetime\",\n",
        "                     to_timestamp(col(\"tpep_dropoff_datetime\"))).withColumn(\"Dropoff_Day\", date_format(col(\"tpep_dropoff_datetime\"), \"E\"))\n",
        "dataframe = dataframe.withColumn(\"tpep_dropoff_datetime\",\n",
        "                     to_timestamp(col(\"tpep_dropoff_datetime\"))).withColumn(\"Dropoff_Month\", date_format(col(\"tpep_dropoff_datetime\"), \"M\"))\n",
        "dataframe = dataframe.withColumn(\"tpep_dropoff_datetime\",\n",
        "                     to_timestamp(col(\"tpep_dropoff_datetime\"))).withColumn(\"Dropoff_Year\", date_format(col(\"tpep_dropoff_datetime\"), \"y\"))\n",
        "dataframe = dataframe.withColumn(\"tpep_dropoff_datetime\",\n",
        "                     to_timestamp(col(\"tpep_dropoff_datetime\"))).withColumn(\"Dropoff_Hour\", date_format(col(\"tpep_dropoff_datetime\"), \"H\"))\n",
        "dataframe = dataframe.withColumn(\"tpep_dropoff_datetime\",\n",
        "                     to_timestamp(col(\"tpep_dropoff_datetime\"))).withColumn(\"Dropoff_Minute\", date_format(col(\"tpep_dropoff_datetime\"), \"m\"))\n",
        "dataframe = dataframe.withColumn(\"tpep_dropoff_datetime\",\n",
        "                     to_timestamp(col(\"tpep_dropoff_datetime\"))).withColumn(\"Dropoff_Second\", date_format(col(\"tpep_dropoff_datetime\"), \"s\"))                     "
      ]
    },
    {
      "cell_type": "code",
      "execution_count": null,
      "metadata": {
        "colab": {
          "base_uri": "https://localhost:8080/"
        },
        "id": "kQqCMLQ6km_4",
        "outputId": "30592dee-36a5-4559-f070-b98ccb9bfbd6"
      },
      "outputs": [
        {
          "output_type": "stream",
          "name": "stdout",
          "text": [
            "+--------+--------------------+---------------------+---------------+-------------+----------+------------------+------------+------------+------------+-----------+-----+-------+----------+------------+---------------------+------------+--------------------+-----------+----------+------------+-----------+-----------+-------------+-------------+------------+-----------+-------------+------------+------------+--------------+--------------+\n",
            "|VendorID|tpep_pickup_datetime|tpep_dropoff_datetime|passenger_count|trip_distance|RatecodeID|store_and_fwd_flag|PULocationID|DOLocationID|payment_type|fare_amount|extra|mta_tax|tip_amount|tolls_amount|improvement_surcharge|total_amount|congestion_surcharge|Pickup_Date|Pickup_Day|Pickup_Month|Pickup_Year|Pickup_Hour|Pickup_Minute|Pickup_Second|Dropoff_Date|Dropoff_Day|Dropoff_Month|Dropoff_Year|Dropoff_Hour|Dropoff_Minute|Dropoff_Second|\n",
            "+--------+--------------------+---------------------+---------------+-------------+----------+------------------+------------+------------+------------+-----------+-----+-------+----------+------------+---------------------+------------+--------------------+-----------+----------+------------+-----------+-----------+-------------+-------------+------------+-----------+-------------+------------+------------+--------------+--------------+\n",
            "|       1| 2020-12-01 00:07:13|  2020-12-01 00:18:12|              1|          7.6|         1|                 N|         138|         263|           1|       21.5|  3.0|    0.5|       2.5|        6.12|                  0.3|       33.92|                 2.5|          1|       Tue|          12|       2020|          0|            7|           13|           1|        Tue|           12|        2020|           0|            18|            12|\n",
            "|       1| 2020-12-01 00:41:19|  2020-12-01 00:49:45|              1|          1.6|         1|                 N|         140|         263|           1|        8.0|  3.0|    0.5|      2.95|         0.0|                  0.3|       14.75|                 2.5|          1|       Tue|          12|       2020|          0|           41|           19|           1|        Tue|           12|        2020|           0|            49|            45|\n",
            "|       2| 2020-12-01 00:33:40|  2020-12-01 01:00:35|              1|        16.74|         2|                 N|         132|         164|           1|       52.0|  0.0|    0.5|       2.5|        6.12|                  0.3|       63.92|                 2.5|          1|       Tue|          12|       2020|          0|           33|           40|           1|        Tue|           12|        2020|           1|             0|            35|\n",
            "|       2| 2020-12-01 00:02:15|  2020-12-01 00:13:09|              1|         4.16|         1|                 N|         238|          48|           1|       14.0|  0.5|    0.5|       1.0|         0.0|                  0.3|        18.8|                 2.5|          1|       Tue|          12|       2020|          0|            2|           15|           1|        Tue|           12|        2020|           0|            13|             9|\n",
            "|       2| 2020-12-01 00:37:42|  2020-12-01 00:45:11|              1|         2.22|         1|                 N|         238|          41|           2|        8.5|  0.5|    0.5|       0.0|         0.0|                  0.3|         9.8|                 0.0|          1|       Tue|          12|       2020|          0|           37|           42|           1|        Tue|           12|        2020|           0|            45|            11|\n",
            "|       2| 2020-12-01 00:40:47|  2020-12-01 00:57:03|              1|         6.44|         1|                 N|         132|         191|           1|       19.5|  0.5|    0.5|      4.16|         0.0|                  0.3|       24.96|                 0.0|          1|       Tue|          12|       2020|          0|           40|           47|           1|        Tue|           12|        2020|           0|            57|             3|\n",
            "|       2| 2020-12-01 00:01:42|  2020-12-01 00:06:06|              1|         0.99|         1|                 N|         234|         137|           1|        5.5|  0.5|    0.5|      1.86|         0.0|                  0.3|       11.16|                 2.5|          1|       Tue|          12|       2020|          0|            1|           42|           1|        Tue|           12|        2020|           0|             6|             6|\n",
            "|       2| 2020-12-01 00:58:24|  2020-12-01 01:36:14|              2|        11.81|         1|                 N|         261|           7|           1|       36.5|  0.5|    0.5|       1.0|         0.0|                  0.3|        41.3|                 2.5|          1|       Tue|          12|       2020|          0|           58|           24|           1|        Tue|           12|        2020|           1|            36|            14|\n",
            "|       1| 2020-12-01 00:08:15|  2020-12-01 00:16:04|              2|          2.7|         1|                 N|         237|         107|           1|        9.5|  3.0|    0.5|      2.65|         0.0|                  0.3|       15.95|                 2.5|          1|       Tue|          12|       2020|          0|            8|           15|           1|        Tue|           12|        2020|           0|            16|             4|\n",
            "|       2| 2020-12-01 00:04:21|  2020-12-01 00:29:00|              1|         6.28|         1|                 N|          41|          68|           2|       23.0|  0.5|    0.5|       0.0|         0.0|                  0.3|        26.8|                 2.5|          1|       Tue|          12|       2020|          0|            4|           21|           1|        Tue|           12|        2020|           0|            29|             0|\n",
            "|       2| 2020-12-01 00:22:03|  2020-12-01 00:52:55|              1|        18.93|         2|                 N|         132|         211|           1|       52.0|  0.0|    0.5|     12.28|        6.12|                  0.3|        73.7|                 2.5|          1|       Tue|          12|       2020|          0|           22|            3|           1|        Tue|           12|        2020|           0|            52|            55|\n",
            "|       2| 2020-12-01 00:46:31|  2020-12-01 00:53:49|              5|         2.75|         1|                 N|         249|         230|           2|        9.5|  0.5|    0.5|       0.0|         0.0|                  0.3|        13.3|                 2.5|          1|       Tue|          12|       2020|          0|           46|           31|           1|        Tue|           12|        2020|           0|            53|            49|\n",
            "|       2| 2020-12-01 00:51:30|  2020-12-01 01:26:52|              2|         21.8|         2|                 N|         132|          13|           1|       52.0|  0.0|    0.5|     11.06|         0.0|                  0.3|       66.36|                 2.5|          1|       Tue|          12|       2020|          0|           51|           30|           1|        Tue|           12|        2020|           1|            26|            52|\n",
            "|       1| 2020-12-01 00:14:34|  2020-12-01 00:31:04|              1|          7.6|         1|                 N|         140|          65|           1|       23.0|  3.0|    0.5|      5.35|         0.0|                  0.3|       32.15|                 2.5|          1|       Tue|          12|       2020|          0|           14|           34|           1|        Tue|           12|        2020|           0|            31|             4|\n",
            "|       1| 2020-12-01 00:11:02|  2020-12-01 00:17:34|              1|          1.7|         1|                 N|         239|         141|           2|        7.5|  3.0|    0.5|       0.0|         0.0|                  0.3|        11.3|                 2.5|          1|       Tue|          12|       2020|          0|           11|            2|           1|        Tue|           12|        2020|           0|            17|            34|\n",
            "|       1| 2020-12-01 00:54:55|  2020-12-01 00:57:09|              1|          0.5|         1|                 N|         263|         141|           2|        4.0|  3.0|    0.5|       0.0|         0.0|                  0.3|         7.8|                 2.5|          1|       Tue|          12|       2020|          0|           54|           55|           1|        Tue|           12|        2020|           0|            57|             9|\n",
            "|       1| 2020-12-01 00:11:22|  2020-12-01 00:40:36|              1|         21.0|         2|                 N|         132|         231|           1|       52.0|  2.5|    0.5|     16.55|         0.0|                  0.3|       71.85|                 2.5|          1|       Tue|          12|       2020|          0|           11|           22|           1|        Tue|           12|        2020|           0|            40|            36|\n",
            "|       2| 2020-11-30 23:59:22|  2020-12-01 00:05:51|              3|         0.81|         1|                 N|          50|          48|           1|        5.5|  0.5|    0.5|      1.88|         0.0|                  0.3|       11.18|                 2.5|         30|       Mon|          11|       2020|         23|           59|           22|           1|        Tue|           12|        2020|           0|             5|            51|\n",
            "|       2| 2020-12-01 00:24:34|  2020-12-01 00:29:59|              4|         1.45|         1|                 N|          48|         162|           1|        6.5|  0.5|    0.5|      2.06|         0.0|                  0.3|       12.36|                 2.5|          1|       Tue|          12|       2020|          0|           24|           34|           1|        Tue|           12|        2020|           0|            29|            59|\n",
            "|       2| 2020-12-01 00:20:44|  2020-12-01 00:32:48|              5|         3.78|         1|                 N|         140|          42|           2|       13.5|  0.5|    0.5|       0.0|         0.0|                  0.3|        17.3|                 2.5|          1|       Tue|          12|       2020|          0|           20|           44|           1|        Tue|           12|        2020|           0|            32|            48|\n",
            "+--------+--------------------+---------------------+---------------+-------------+----------+------------------+------------+------------+------------+-----------+-----+-------+----------+------------+---------------------+------------+--------------------+-----------+----------+------------+-----------+-----------+-------------+-------------+------------+-----------+-------------+------------+------------+--------------+--------------+\n",
            "only showing top 20 rows\n",
            "\n"
          ]
        }
      ],
      "source": [
        "dataframe.show()"
      ]
    },
    {
      "cell_type": "code",
      "execution_count": null,
      "metadata": {
        "colab": {
          "base_uri": "https://localhost:8080/"
        },
        "id": "nAbdwDOjE9sE",
        "outputId": "bacc96be-65f2-498f-d84d-8f553e29c20c"
      },
      "outputs": [
        {
          "output_type": "stream",
          "name": "stdout",
          "text": [
            "+--------+--------------------+---------------------+---------------+-------------+----------+------------------+------------+------------+------------+-----------+-----+-------+----------+------------+---------------------+------------+--------------------+-----------+----------+------------+-----------+-----------+-------------+-------------+------------+-----------+-------------+------------+------------+--------------+--------------+---------+\n",
            "|VendorID|tpep_pickup_datetime|tpep_dropoff_datetime|passenger_count|trip_distance|RatecodeID|store_and_fwd_flag|PULocationID|DOLocationID|payment_type|fare_amount|extra|mta_tax|tip_amount|tolls_amount|improvement_surcharge|total_amount|congestion_surcharge|Pickup_Date|Pickup_Day|Pickup_Month|Pickup_Year|Pickup_Hour|Pickup_Minute|Pickup_Second|Dropoff_Date|Dropoff_Day|Dropoff_Month|Dropoff_Year|Dropoff_Hour|Dropoff_Minute|Dropoff_Second|Trip_Time|\n",
            "+--------+--------------------+---------------------+---------------+-------------+----------+------------------+------------+------------+------------+-----------+-----+-------+----------+------------+---------------------+------------+--------------------+-----------+----------+------------+-----------+-----------+-------------+-------------+------------+-----------+-------------+------------+------------+--------------+--------------+---------+\n",
            "|       1| 2020-12-01 00:07:13|  2020-12-01 00:18:12|              1|          7.6|         1|                 N|         138|         263|           1|       21.5|  3.0|    0.5|       2.5|        6.12|                  0.3|       33.92|                 2.5|          1|       Tue|          12|       2020|          0|            7|           13|           1|        Tue|           12|        2020|           0|            18|            12|      659|\n",
            "|       1| 2020-12-01 00:41:19|  2020-12-01 00:49:45|              1|          1.6|         1|                 N|         140|         263|           1|        8.0|  3.0|    0.5|      2.95|         0.0|                  0.3|       14.75|                 2.5|          1|       Tue|          12|       2020|          0|           41|           19|           1|        Tue|           12|        2020|           0|            49|            45|      506|\n",
            "|       2| 2020-12-01 00:33:40|  2020-12-01 01:00:35|              1|        16.74|         2|                 N|         132|         164|           1|       52.0|  0.0|    0.5|       2.5|        6.12|                  0.3|       63.92|                 2.5|          1|       Tue|          12|       2020|          0|           33|           40|           1|        Tue|           12|        2020|           1|             0|            35|     1615|\n",
            "|       2| 2020-12-01 00:02:15|  2020-12-01 00:13:09|              1|         4.16|         1|                 N|         238|          48|           1|       14.0|  0.5|    0.5|       1.0|         0.0|                  0.3|        18.8|                 2.5|          1|       Tue|          12|       2020|          0|            2|           15|           1|        Tue|           12|        2020|           0|            13|             9|      654|\n",
            "|       2| 2020-12-01 00:37:42|  2020-12-01 00:45:11|              1|         2.22|         1|                 N|         238|          41|           2|        8.5|  0.5|    0.5|       0.0|         0.0|                  0.3|         9.8|                 0.0|          1|       Tue|          12|       2020|          0|           37|           42|           1|        Tue|           12|        2020|           0|            45|            11|      449|\n",
            "|       2| 2020-12-01 00:40:47|  2020-12-01 00:57:03|              1|         6.44|         1|                 N|         132|         191|           1|       19.5|  0.5|    0.5|      4.16|         0.0|                  0.3|       24.96|                 0.0|          1|       Tue|          12|       2020|          0|           40|           47|           1|        Tue|           12|        2020|           0|            57|             3|      976|\n",
            "|       2| 2020-12-01 00:01:42|  2020-12-01 00:06:06|              1|         0.99|         1|                 N|         234|         137|           1|        5.5|  0.5|    0.5|      1.86|         0.0|                  0.3|       11.16|                 2.5|          1|       Tue|          12|       2020|          0|            1|           42|           1|        Tue|           12|        2020|           0|             6|             6|      264|\n",
            "|       2| 2020-12-01 00:58:24|  2020-12-01 01:36:14|              2|        11.81|         1|                 N|         261|           7|           1|       36.5|  0.5|    0.5|       1.0|         0.0|                  0.3|        41.3|                 2.5|          1|       Tue|          12|       2020|          0|           58|           24|           1|        Tue|           12|        2020|           1|            36|            14|     2270|\n",
            "|       1| 2020-12-01 00:08:15|  2020-12-01 00:16:04|              2|          2.7|         1|                 N|         237|         107|           1|        9.5|  3.0|    0.5|      2.65|         0.0|                  0.3|       15.95|                 2.5|          1|       Tue|          12|       2020|          0|            8|           15|           1|        Tue|           12|        2020|           0|            16|             4|      469|\n",
            "|       2| 2020-12-01 00:04:21|  2020-12-01 00:29:00|              1|         6.28|         1|                 N|          41|          68|           2|       23.0|  0.5|    0.5|       0.0|         0.0|                  0.3|        26.8|                 2.5|          1|       Tue|          12|       2020|          0|            4|           21|           1|        Tue|           12|        2020|           0|            29|             0|     1479|\n",
            "|       2| 2020-12-01 00:22:03|  2020-12-01 00:52:55|              1|        18.93|         2|                 N|         132|         211|           1|       52.0|  0.0|    0.5|     12.28|        6.12|                  0.3|        73.7|                 2.5|          1|       Tue|          12|       2020|          0|           22|            3|           1|        Tue|           12|        2020|           0|            52|            55|     1852|\n",
            "|       2| 2020-12-01 00:46:31|  2020-12-01 00:53:49|              5|         2.75|         1|                 N|         249|         230|           2|        9.5|  0.5|    0.5|       0.0|         0.0|                  0.3|        13.3|                 2.5|          1|       Tue|          12|       2020|          0|           46|           31|           1|        Tue|           12|        2020|           0|            53|            49|      438|\n",
            "|       2| 2020-12-01 00:51:30|  2020-12-01 01:26:52|              2|         21.8|         2|                 N|         132|          13|           1|       52.0|  0.0|    0.5|     11.06|         0.0|                  0.3|       66.36|                 2.5|          1|       Tue|          12|       2020|          0|           51|           30|           1|        Tue|           12|        2020|           1|            26|            52|     2122|\n",
            "|       1| 2020-12-01 00:14:34|  2020-12-01 00:31:04|              1|          7.6|         1|                 N|         140|          65|           1|       23.0|  3.0|    0.5|      5.35|         0.0|                  0.3|       32.15|                 2.5|          1|       Tue|          12|       2020|          0|           14|           34|           1|        Tue|           12|        2020|           0|            31|             4|      990|\n",
            "|       1| 2020-12-01 00:11:02|  2020-12-01 00:17:34|              1|          1.7|         1|                 N|         239|         141|           2|        7.5|  3.0|    0.5|       0.0|         0.0|                  0.3|        11.3|                 2.5|          1|       Tue|          12|       2020|          0|           11|            2|           1|        Tue|           12|        2020|           0|            17|            34|      392|\n",
            "|       1| 2020-12-01 00:54:55|  2020-12-01 00:57:09|              1|          0.5|         1|                 N|         263|         141|           2|        4.0|  3.0|    0.5|       0.0|         0.0|                  0.3|         7.8|                 2.5|          1|       Tue|          12|       2020|          0|           54|           55|           1|        Tue|           12|        2020|           0|            57|             9|      134|\n",
            "|       1| 2020-12-01 00:11:22|  2020-12-01 00:40:36|              1|         21.0|         2|                 N|         132|         231|           1|       52.0|  2.5|    0.5|     16.55|         0.0|                  0.3|       71.85|                 2.5|          1|       Tue|          12|       2020|          0|           11|           22|           1|        Tue|           12|        2020|           0|            40|            36|     1754|\n",
            "|       2| 2020-11-30 23:59:22|  2020-12-01 00:05:51|              3|         0.81|         1|                 N|          50|          48|           1|        5.5|  0.5|    0.5|      1.88|         0.0|                  0.3|       11.18|                 2.5|         30|       Mon|          11|       2020|         23|           59|           22|           1|        Tue|           12|        2020|           0|             5|            51|      389|\n",
            "|       2| 2020-12-01 00:24:34|  2020-12-01 00:29:59|              4|         1.45|         1|                 N|          48|         162|           1|        6.5|  0.5|    0.5|      2.06|         0.0|                  0.3|       12.36|                 2.5|          1|       Tue|          12|       2020|          0|           24|           34|           1|        Tue|           12|        2020|           0|            29|            59|      325|\n",
            "|       2| 2020-12-01 00:20:44|  2020-12-01 00:32:48|              5|         3.78|         1|                 N|         140|          42|           2|       13.5|  0.5|    0.5|       0.0|         0.0|                  0.3|        17.3|                 2.5|          1|       Tue|          12|       2020|          0|           20|           44|           1|        Tue|           12|        2020|           0|            32|            48|      724|\n",
            "+--------+--------------------+---------------------+---------------+-------------+----------+------------------+------------+------------+------------+-----------+-----+-------+----------+------------+---------------------+------------+--------------------+-----------+----------+------------+-----------+-----------+-------------+-------------+------------+-----------+-------------+------------+------------+--------------+--------------+---------+\n",
            "only showing top 20 rows\n",
            "\n"
          ]
        }
      ],
      "source": [
        "# Finding TripTime in Seconds\n",
        "dataframe = dataframe.withColumn('Trip_Time',col(\"tpep_dropoff_datetime\").cast(\"long\") - col('tpep_pickup_datetime').cast(\"long\"))\n",
        "dataframe.show()"
      ]
    },
    {
      "cell_type": "code",
      "execution_count": null,
      "metadata": {
        "id": "pXsM3pCBpkwh"
      },
      "outputs": [],
      "source": [
        "# dataframe.toPandas().to_csv('final.csv')"
      ]
    },
    {
      "cell_type": "code",
      "execution_count": null,
      "metadata": {
        "colab": {
          "base_uri": "https://localhost:8080/"
        },
        "id": "vsW1pZy2doZ5",
        "outputId": "bb17d1b6-6769-41b6-bd32-8499f7729d73"
      },
      "outputs": [
        {
          "output_type": "stream",
          "name": "stdout",
          "text": [
            "root\n",
            " |-- LocationID: integer (nullable = true)\n",
            " |-- Borough: string (nullable = true)\n",
            " |-- Zone: string (nullable = true)\n",
            " |-- service_zone: string (nullable = true)\n",
            "\n"
          ]
        }
      ],
      "source": [
        "filepath = '/content/drive/MyDrive/Capstone Project/taxi_zone_lookup.csv'\n",
        "dataframe2 = spark.read.csv(filepath, header=True, inferSchema=True)\n",
        "dataframe2.printSchema()"
      ]
    },
    {
      "cell_type": "code",
      "execution_count": null,
      "metadata": {
        "colab": {
          "base_uri": "https://localhost:8080/"
        },
        "id": "vg9Ygw6vHIGo",
        "outputId": "203b638f-88f1-4144-cd85-df84ae1ee079"
      },
      "outputs": [
        {
          "output_type": "stream",
          "name": "stderr",
          "text": [
            "/usr/local/lib/python3.7/dist-packages/pyspark/sql/dataframe.py:229: FutureWarning: Deprecated in 2.0, use createOrReplaceTempView instead.\n",
            "  warnings.warn(\"Deprecated in 2.0, use createOrReplaceTempView instead.\", FutureWarning)\n"
          ]
        }
      ],
      "source": [
        "dataframe.registerTempTable(\"df1\")\n",
        "dataframe2.registerTempTable('df2')"
      ]
    },
    {
      "cell_type": "code",
      "execution_count": null,
      "metadata": {
        "colab": {
          "base_uri": "https://localhost:8080/"
        },
        "id": "Ol7p_N9GGuVX",
        "outputId": "10102d38-99a5-41fb-ffa2-6e053f9bbfe3"
      },
      "outputs": [
        {
          "output_type": "stream",
          "name": "stdout",
          "text": [
            "+--------+--------------------+---------------------+---------------+-------------+----------+------------------+------------+------------+------------+-----------+-----+-------+----------+------------+---------------------+------------+--------------------+-----------+----------+------------+-----------+-----------+-------------+-------------+------------+-----------+-------------+------------+------------+--------------+--------------+---------+\n",
            "|VendorID|tpep_pickup_datetime|tpep_dropoff_datetime|passenger_count|trip_distance|RatecodeID|store_and_fwd_flag|PULocationID|DOLocationID|payment_type|fare_amount|extra|mta_tax|tip_amount|tolls_amount|improvement_surcharge|total_amount|congestion_surcharge|Pickup_Date|Pickup_Day|Pickup_Month|Pickup_Year|Pickup_Hour|Pickup_Minute|Pickup_Second|Dropoff_Date|Dropoff_Day|Dropoff_Month|Dropoff_Year|Dropoff_Hour|Dropoff_Minute|Dropoff_Second|Trip_Time|\n",
            "+--------+--------------------+---------------------+---------------+-------------+----------+------------------+------------+------------+------------+-----------+-----+-------+----------+------------+---------------------+------------+--------------------+-----------+----------+------------+-----------+-----------+-------------+-------------+------------+-----------+-------------+------------+------------+--------------+--------------+---------+\n",
            "|       1| 2020-12-01 00:07:13|  2020-12-01 00:18:12|              1|          7.6|         1|                 N|         138|         263|           1|       21.5|  3.0|    0.5|       2.5|        6.12|                  0.3|       33.92|                 2.5|          1|       Tue|          12|       2020|          0|            7|           13|           1|        Tue|           12|        2020|           0|            18|            12|      659|\n",
            "|       1| 2020-12-01 00:41:19|  2020-12-01 00:49:45|              1|          1.6|         1|                 N|         140|         263|           1|        8.0|  3.0|    0.5|      2.95|         0.0|                  0.3|       14.75|                 2.5|          1|       Tue|          12|       2020|          0|           41|           19|           1|        Tue|           12|        2020|           0|            49|            45|      506|\n",
            "|       2| 2020-12-01 00:33:40|  2020-12-01 01:00:35|              1|        16.74|         2|                 N|         132|         164|           1|       52.0|  0.0|    0.5|       2.5|        6.12|                  0.3|       63.92|                 2.5|          1|       Tue|          12|       2020|          0|           33|           40|           1|        Tue|           12|        2020|           1|             0|            35|     1615|\n",
            "+--------+--------------------+---------------------+---------------+-------------+----------+------------------+------------+------------+------------+-----------+-----+-------+----------+------------+---------------------+------------+--------------------+-----------+----------+------------+-----------+-----------+-------------+-------------+------------+-----------+-------------+------------+------------+--------------+--------------+---------+\n",
            "only showing top 3 rows\n",
            "\n"
          ]
        }
      ],
      "source": [
        "spark.sql('SELECT * FROM df1').show(3)"
      ]
    },
    {
      "cell_type": "code",
      "execution_count": null,
      "metadata": {
        "id": "IdJpt_L7GuSx"
      },
      "outputs": [],
      "source": [
        "dataframe3 = spark.sql('SELECT df1.VendorID, df1.tpep_pickup_datetime, df1.tpep_dropoff_datetime,\\\n",
        "                        df1.passenger_count, df1.trip_distance, df1.RatecodeID, df1.store_and_fwd_flag,\\\n",
        "                        df1.PULocationID, df2.Borough AS PU_Borough, df2.Zone AS PU_Zone,\\\n",
        "                        df2.service_zone AS PU_ServiceZone, df1.DOLocationID, df1.payment_type,\\\n",
        "                        df1.fare_amount, df1.extra, df1.mta_tax, df1.tip_amount, df1.tolls_amount,\\\n",
        "                        df1.improvement_surcharge, df1.total_amount, df1.congestion_surcharge, \\\n",
        "                        df1.Pickup_Date, df1.Pickup_Day, df1.Pickup_Month, df1.Pickup_Year, df1.Pickup_Hour, \\\n",
        "                        df1.Pickup_Minute, df1.Pickup_Second, df1.Dropoff_Date, df1.Dropoff_Day, \\\n",
        "                        df1.Dropoff_Month, df1.Dropoff_Year, df1.Dropoff_Hour, df1.Dropoff_Minute, \\\n",
        "                        df1.Dropoff_Second, df1.Trip_Time \\\n",
        "                        FROM df1 LEFT JOIN df2 ON df1.PULocationID = df2.LocationID')"
      ]
    },
    {
      "cell_type": "code",
      "execution_count": null,
      "metadata": {
        "colab": {
          "base_uri": "https://localhost:8080/"
        },
        "id": "Wy9ayt7gTRMB",
        "outputId": "775915a9-dfec-4521-ba03-c9333059642a"
      },
      "outputs": [
        {
          "output_type": "stream",
          "name": "stdout",
          "text": [
            "+--------+--------------------+---------------------+---------------+-------------+----------+------------------+------------+----------+--------------------+--------------+------------+------------+-----------+-----+-------+----------+------------+---------------------+------------+--------------------+-----------+----------+------------+-----------+-----------+-------------+-------------+------------+-----------+-------------+------------+------------+--------------+--------------+---------+\n",
            "|VendorID|tpep_pickup_datetime|tpep_dropoff_datetime|passenger_count|trip_distance|RatecodeID|store_and_fwd_flag|PULocationID|PU_Borough|             PU_Zone|PU_ServiceZone|DOLocationID|payment_type|fare_amount|extra|mta_tax|tip_amount|tolls_amount|improvement_surcharge|total_amount|congestion_surcharge|Pickup_Date|Pickup_Day|Pickup_Month|Pickup_Year|Pickup_Hour|Pickup_Minute|Pickup_Second|Dropoff_Date|Dropoff_Day|Dropoff_Month|Dropoff_Year|Dropoff_Hour|Dropoff_Minute|Dropoff_Second|Trip_Time|\n",
            "+--------+--------------------+---------------------+---------------+-------------+----------+------------------+------------+----------+--------------------+--------------+------------+------------+-----------+-----+-------+----------+------------+---------------------+------------+--------------------+-----------+----------+------------+-----------+-----------+-------------+-------------+------------+-----------+-------------+------------+------------+--------------+--------------+---------+\n",
            "|       1| 2020-12-01 00:07:13|  2020-12-01 00:18:12|              1|          7.6|         1|                 N|         138|    Queens|   LaGuardia Airport|      Airports|         263|           1|       21.5|  3.0|    0.5|       2.5|        6.12|                  0.3|       33.92|                 2.5|          1|       Tue|          12|       2020|          0|            7|           13|           1|        Tue|           12|        2020|           0|            18|            12|      659|\n",
            "|       1| 2020-12-01 00:41:19|  2020-12-01 00:49:45|              1|          1.6|         1|                 N|         140| Manhattan|     Lenox Hill East|   Yellow Zone|         263|           1|        8.0|  3.0|    0.5|      2.95|         0.0|                  0.3|       14.75|                 2.5|          1|       Tue|          12|       2020|          0|           41|           19|           1|        Tue|           12|        2020|           0|            49|            45|      506|\n",
            "|       2| 2020-12-01 00:33:40|  2020-12-01 01:00:35|              1|        16.74|         2|                 N|         132|    Queens|         JFK Airport|      Airports|         164|           1|       52.0|  0.0|    0.5|       2.5|        6.12|                  0.3|       63.92|                 2.5|          1|       Tue|          12|       2020|          0|           33|           40|           1|        Tue|           12|        2020|           1|             0|            35|     1615|\n",
            "|       2| 2020-12-01 00:02:15|  2020-12-01 00:13:09|              1|         4.16|         1|                 N|         238| Manhattan|Upper West Side N...|   Yellow Zone|          48|           1|       14.0|  0.5|    0.5|       1.0|         0.0|                  0.3|        18.8|                 2.5|          1|       Tue|          12|       2020|          0|            2|           15|           1|        Tue|           12|        2020|           0|            13|             9|      654|\n",
            "|       2| 2020-12-01 00:37:42|  2020-12-01 00:45:11|              1|         2.22|         1|                 N|         238| Manhattan|Upper West Side N...|   Yellow Zone|          41|           2|        8.5|  0.5|    0.5|       0.0|         0.0|                  0.3|         9.8|                 0.0|          1|       Tue|          12|       2020|          0|           37|           42|           1|        Tue|           12|        2020|           0|            45|            11|      449|\n",
            "+--------+--------------------+---------------------+---------------+-------------+----------+------------------+------------+----------+--------------------+--------------+------------+------------+-----------+-----+-------+----------+------------+---------------------+------------+--------------------+-----------+----------+------------+-----------+-----------+-------------+-------------+------------+-----------+-------------+------------+------------+--------------+--------------+---------+\n",
            "only showing top 5 rows\n",
            "\n"
          ]
        }
      ],
      "source": [
        "dataframe3.show(5)"
      ]
    },
    {
      "cell_type": "code",
      "execution_count": null,
      "metadata": {
        "colab": {
          "base_uri": "https://localhost:8080/"
        },
        "id": "ud7cquteWuS4",
        "outputId": "06925566-ed8f-4b08-d4db-639c00bdd9a5"
      },
      "outputs": [
        {
          "output_type": "stream",
          "name": "stdout",
          "text": [
            "+--------+--------------------+---------------------+---------------+-------------+----------+------------------+------------+----------+-----------------+--------------+------------+------------+-----------+-----+-------+----------+------------+---------------------+------------+--------------------+-----------+----------+------------+-----------+-----------+-------------+-------------+------------+-----------+-------------+------------+------------+--------------+--------------+---------+\n",
            "|VendorID|tpep_pickup_datetime|tpep_dropoff_datetime|passenger_count|trip_distance|RatecodeID|store_and_fwd_flag|PULocationID|PU_Borough|          PU_Zone|PU_ServiceZone|DOLocationID|payment_type|fare_amount|extra|mta_tax|tip_amount|tolls_amount|improvement_surcharge|total_amount|congestion_surcharge|Pickup_Date|Pickup_Day|Pickup_Month|Pickup_Year|Pickup_Hour|Pickup_Minute|Pickup_Second|Dropoff_Date|Dropoff_Day|Dropoff_Month|Dropoff_Year|Dropoff_Hour|Dropoff_Minute|Dropoff_Second|Trip_Time|\n",
            "+--------+--------------------+---------------------+---------------+-------------+----------+------------------+------------+----------+-----------------+--------------+------------+------------+-----------+-----+-------+----------+------------+---------------------+------------+--------------------+-----------+----------+------------+-----------+-----------+-------------+-------------+------------+-----------+-------------+------------+------------+--------------+--------------+---------+\n",
            "|       1| 2020-12-01 00:07:13|  2020-12-01 00:18:12|              1|          7.6|         1|                 N|         138|    Queens|LaGuardia Airport|      Airports|         263|           1|       21.5|  3.0|    0.5|       2.5|        6.12|                  0.3|       33.92|                 2.5|          1|       Tue|          12|       2020|          0|            7|           13|           1|        Tue|           12|        2020|           0|            18|            12|      659|\n",
            "|       1| 2020-12-01 00:41:19|  2020-12-01 00:49:45|              1|          1.6|         1|                 N|         140| Manhattan|  Lenox Hill East|   Yellow Zone|         263|           1|        8.0|  3.0|    0.5|      2.95|         0.0|                  0.3|       14.75|                 2.5|          1|       Tue|          12|       2020|          0|           41|           19|           1|        Tue|           12|        2020|           0|            49|            45|      506|\n",
            "|       2| 2020-12-01 00:33:40|  2020-12-01 01:00:35|              1|        16.74|         2|                 N|         132|    Queens|      JFK Airport|      Airports|         164|           1|       52.0|  0.0|    0.5|       2.5|        6.12|                  0.3|       63.92|                 2.5|          1|       Tue|          12|       2020|          0|           33|           40|           1|        Tue|           12|        2020|           1|             0|            35|     1615|\n",
            "+--------+--------------------+---------------------+---------------+-------------+----------+------------------+------------+----------+-----------------+--------------+------------+------------+-----------+-----+-------+----------+------------+---------------------+------------+--------------------+-----------+----------+------------+-----------+-----------+-------------+-------------+------------+-----------+-------------+------------+------------+--------------+--------------+---------+\n",
            "only showing top 3 rows\n",
            "\n"
          ]
        }
      ],
      "source": [
        "dataframe3.registerTempTable('df3')\n",
        "spark.sql('SELECT * FROM df3').show(3)"
      ]
    },
    {
      "cell_type": "code",
      "execution_count": null,
      "metadata": {
        "id": "CzDo9DFYGuNT"
      },
      "outputs": [],
      "source": [
        "dataframe4 = spark.sql('SELECT df3.VendorID, df3.tpep_pickup_datetime, df3.tpep_dropoff_datetime,\\\n",
        "           df3.passenger_count, df3.trip_distance, df3.RatecodeID, df3.store_and_fwd_flag,\\\n",
        "           df3.PULocationID, df3.PU_Borough, df3.PU_Zone, df3.PU_ServiceZone, \\\n",
        "           df3.DOLocationID, df2.Borough AS DO_Borough, df2.Zone AS DO_Zone, df2.service_zone AS DO_ServiceZone,\\\n",
        "           df3.payment_type, df3.fare_amount, df3.extra, df3.mta_tax, df3.tip_amount, df3.tolls_amount,\\\n",
        "           df3.improvement_surcharge, df3.total_amount, df3.congestion_surcharge, \\\n",
        "           df3.Pickup_Date, df3.Pickup_Day, df3.Pickup_Month, df3.Pickup_Year, df3.Pickup_Hour, \\\n",
        "           df3.Pickup_Minute, df3.Pickup_Second, df3.Dropoff_Date, df3.Dropoff_Day, \\\n",
        "           df3.Dropoff_Month, df3.Dropoff_Year, df3.Dropoff_Hour, df3.Dropoff_Minute, \\\n",
        "           df3.Dropoff_Second, df3.Trip_Time \\\n",
        "           FROM df3 LEFT JOIN df2 \\\n",
        "           WHERE df3.DOLocationID = df2.LocationID')"
      ]
    },
    {
      "cell_type": "code",
      "execution_count": null,
      "metadata": {
        "id": "DyHe6mondn1j",
        "colab": {
          "base_uri": "https://localhost:8080/"
        },
        "outputId": "39c2cdb0-cb93-4e18-836a-72db59ea469a"
      },
      "outputs": [
        {
          "output_type": "execute_result",
          "data": {
            "text/plain": [
              "pyspark.sql.dataframe.DataFrame"
            ]
          },
          "metadata": {},
          "execution_count": 45
        }
      ],
      "source": [
        "type(dataframe4)"
      ]
    },
    {
      "cell_type": "code",
      "execution_count": null,
      "metadata": {
        "colab": {
          "base_uri": "https://localhost:8080/"
        },
        "id": "PYxpOeE4GuLL",
        "outputId": "365bb500-0c92-4d73-acee-edbe19620831"
      },
      "outputs": [
        {
          "output_type": "stream",
          "name": "stdout",
          "text": [
            "+--------+--------------------+---------------------+---------------+-------------+----------+------------------+------------+----------+--------------------+--------------+------------+----------+--------------+--------------+------------+-----------+-----+-------+----------+------------+---------------------+------------+--------------------+-----------+----------+------------+-----------+-----------+-------------+-------------+------------+-----------+-------------+------------+------------+--------------+--------------+---------+\n",
            "|VendorID|tpep_pickup_datetime|tpep_dropoff_datetime|passenger_count|trip_distance|RatecodeID|store_and_fwd_flag|PULocationID|PU_Borough|             PU_Zone|PU_ServiceZone|DOLocationID|DO_Borough|       DO_Zone|DO_ServiceZone|payment_type|fare_amount|extra|mta_tax|tip_amount|tolls_amount|improvement_surcharge|total_amount|congestion_surcharge|Pickup_Date|Pickup_Day|Pickup_Month|Pickup_Year|Pickup_Hour|Pickup_Minute|Pickup_Second|Dropoff_Date|Dropoff_Day|Dropoff_Month|Dropoff_Year|Dropoff_Hour|Dropoff_Minute|Dropoff_Second|Trip_Time|\n",
            "+--------+--------------------+---------------------+---------------+-------------+----------+------------------+------------+----------+--------------------+--------------+------------+----------+--------------+--------------+------------+-----------+-----+-------+----------+------------+---------------------+------------+--------------------+-----------+----------+------------+-----------+-----------+-------------+-------------+------------+-----------+-------------+------------+------------+--------------+--------------+---------+\n",
            "|       1| 2020-12-01 00:07:13|  2020-12-01 00:18:12|              1|          7.6|         1|                 N|         138|    Queens|   LaGuardia Airport|      Airports|         263| Manhattan|Yorkville West|   Yellow Zone|           1|       21.5|  3.0|    0.5|       2.5|        6.12|                  0.3|       33.92|                 2.5|          1|       Tue|          12|       2020|          0|            7|           13|           1|        Tue|           12|        2020|           0|            18|            12|      659|\n",
            "|       1| 2020-12-01 00:41:19|  2020-12-01 00:49:45|              1|          1.6|         1|                 N|         140| Manhattan|     Lenox Hill East|   Yellow Zone|         263| Manhattan|Yorkville West|   Yellow Zone|           1|        8.0|  3.0|    0.5|      2.95|         0.0|                  0.3|       14.75|                 2.5|          1|       Tue|          12|       2020|          0|           41|           19|           1|        Tue|           12|        2020|           0|            49|            45|      506|\n",
            "|       2| 2020-12-01 00:33:40|  2020-12-01 01:00:35|              1|        16.74|         2|                 N|         132|    Queens|         JFK Airport|      Airports|         164| Manhattan| Midtown South|   Yellow Zone|           1|       52.0|  0.0|    0.5|       2.5|        6.12|                  0.3|       63.92|                 2.5|          1|       Tue|          12|       2020|          0|           33|           40|           1|        Tue|           12|        2020|           1|             0|            35|     1615|\n",
            "|       2| 2020-12-01 00:02:15|  2020-12-01 00:13:09|              1|         4.16|         1|                 N|         238| Manhattan|Upper West Side N...|   Yellow Zone|          48| Manhattan|  Clinton East|   Yellow Zone|           1|       14.0|  0.5|    0.5|       1.0|         0.0|                  0.3|        18.8|                 2.5|          1|       Tue|          12|       2020|          0|            2|           15|           1|        Tue|           12|        2020|           0|            13|             9|      654|\n",
            "|       2| 2020-12-01 00:37:42|  2020-12-01 00:45:11|              1|         2.22|         1|                 N|         238| Manhattan|Upper West Side N...|   Yellow Zone|          41| Manhattan|Central Harlem|     Boro Zone|           2|        8.5|  0.5|    0.5|       0.0|         0.0|                  0.3|         9.8|                 0.0|          1|       Tue|          12|       2020|          0|           37|           42|           1|        Tue|           12|        2020|           0|            45|            11|      449|\n",
            "+--------+--------------------+---------------------+---------------+-------------+----------+------------------+------------+----------+--------------------+--------------+------------+----------+--------------+--------------+------------+-----------+-----+-------+----------+------------+---------------------+------------+--------------------+-----------+----------+------------+-----------+-----------+-------------+-------------+------------+-----------+-------------+------------+------------+--------------+--------------+---------+\n",
            "only showing top 5 rows\n",
            "\n"
          ]
        }
      ],
      "source": [
        "dataframe4.show(5)"
      ]
    },
    {
      "cell_type": "code",
      "execution_count": null,
      "metadata": {
        "colab": {
          "base_uri": "https://localhost:8080/"
        },
        "id": "uNSniq2arYZH",
        "outputId": "a49619e2-30c5-4bad-bdb2-e269cd42102b"
      },
      "outputs": [
        {
          "output_type": "stream",
          "name": "stdout",
          "text": [
            "root\n",
            " |-- VendorID: integer (nullable = true)\n",
            " |-- tpep_pickup_datetime: timestamp (nullable = true)\n",
            " |-- tpep_dropoff_datetime: timestamp (nullable = true)\n",
            " |-- passenger_count: integer (nullable = true)\n",
            " |-- trip_distance: double (nullable = true)\n",
            " |-- RatecodeID: integer (nullable = true)\n",
            " |-- store_and_fwd_flag: string (nullable = true)\n",
            " |-- PULocationID: integer (nullable = true)\n",
            " |-- PU_Borough: string (nullable = true)\n",
            " |-- PU_Zone: string (nullable = true)\n",
            " |-- PU_ServiceZone: string (nullable = true)\n",
            " |-- DOLocationID: integer (nullable = true)\n",
            " |-- DO_Borough: string (nullable = true)\n",
            " |-- DO_Zone: string (nullable = true)\n",
            " |-- DO_ServiceZone: string (nullable = true)\n",
            " |-- payment_type: integer (nullable = true)\n",
            " |-- fare_amount: double (nullable = true)\n",
            " |-- extra: double (nullable = true)\n",
            " |-- mta_tax: double (nullable = true)\n",
            " |-- tip_amount: double (nullable = true)\n",
            " |-- tolls_amount: double (nullable = true)\n",
            " |-- improvement_surcharge: double (nullable = true)\n",
            " |-- total_amount: double (nullable = true)\n",
            " |-- congestion_surcharge: double (nullable = true)\n",
            " |-- Pickup_Date: string (nullable = true)\n",
            " |-- Pickup_Day: string (nullable = true)\n",
            " |-- Pickup_Month: string (nullable = true)\n",
            " |-- Pickup_Year: string (nullable = true)\n",
            " |-- Pickup_Hour: string (nullable = true)\n",
            " |-- Pickup_Minute: string (nullable = true)\n",
            " |-- Pickup_Second: string (nullable = true)\n",
            " |-- Dropoff_Date: string (nullable = true)\n",
            " |-- Dropoff_Day: string (nullable = true)\n",
            " |-- Dropoff_Month: string (nullable = true)\n",
            " |-- Dropoff_Year: string (nullable = true)\n",
            " |-- Dropoff_Hour: string (nullable = true)\n",
            " |-- Dropoff_Minute: string (nullable = true)\n",
            " |-- Dropoff_Second: string (nullable = true)\n",
            " |-- Trip_Time: long (nullable = true)\n",
            "\n"
          ]
        }
      ],
      "source": [
        "dataframe4.printSchema()"
      ]
    },
    {
      "cell_type": "code",
      "execution_count": null,
      "metadata": {
        "id": "IGUxOnOxGuFs",
        "colab": {
          "base_uri": "https://localhost:8080/"
        },
        "outputId": "24c3a150-9f94-4c5d-c2d7-ee33d6cf14f1"
      },
      "outputs": [
        {
          "output_type": "stream",
          "name": "stdout",
          "text": [
            "+--------+\n",
            "|count(1)|\n",
            "+--------+\n",
            "| 1311670|\n",
            "+--------+\n",
            "\n"
          ]
        }
      ],
      "source": [
        "dataframe4.registerTempTable('df4')\n",
        "spark.sql('SELECT COUNT(*) FROM df4').show()"
      ]
    },
    {
      "cell_type": "markdown",
      "metadata": {
        "id": "szEYdSyeKIPA"
      },
      "source": [
        "## **Question 1**\n",
        "Get a list of total trips in the month, maximum distance traveled by a trip in the month, maximum amount charged for a trip in the month. maximum time duration traveled in a trip in the month."
      ]
    },
    {
      "cell_type": "code",
      "source": [
        "dataframe.groupBy(['Pickup_Year', 'Pickup_Month']).count().show()"
      ],
      "metadata": {
        "colab": {
          "base_uri": "https://localhost:8080/"
        },
        "id": "KeNPOVYoLvdf",
        "outputId": "2a73ea1e-8d96-4997-94d4-da46563730f0"
      },
      "execution_count": null,
      "outputs": [
        {
          "output_type": "stream",
          "name": "stdout",
          "text": [
            "+-----------+------------+-------+\n",
            "|Pickup_Year|Pickup_Month|  count|\n",
            "+-----------+------------+-------+\n",
            "|       2020|          11|     14|\n",
            "|       2020|          12|1311641|\n",
            "|       2021|           2|      4|\n",
            "|       2021|           6|      1|\n",
            "|       2021|           4|      3|\n",
            "|       2009|           1|      2|\n",
            "|       2021|           5|      2|\n",
            "|       2021|           1|      3|\n",
            "+-----------+------------+-------+\n",
            "\n"
          ]
        }
      ]
    },
    {
      "cell_type": "code",
      "execution_count": null,
      "metadata": {
        "colab": {
          "base_uri": "https://localhost:8080/"
        },
        "id": "iKIQJpL9heNF",
        "outputId": "6eb4bc1b-05a3-47da-ed8a-4be5110dd146"
      },
      "outputs": [
        {
          "output_type": "stream",
          "name": "stdout",
          "text": [
            "+------------+-------+\n",
            "|Pickup_Month|  count|\n",
            "+------------+-------+\n",
            "|          11|     14|\n",
            "|          12|1311641|\n",
            "|           5|      2|\n",
            "|           6|      1|\n",
            "|           1|      5|\n",
            "|           4|      3|\n",
            "|           2|      4|\n",
            "+------------+-------+\n",
            "\n"
          ]
        }
      ],
      "source": [
        "# Group by Pickup Month\n",
        "dataframe.groupBy('Pickup_Month').count().show()"
      ]
    },
    {
      "cell_type": "code",
      "execution_count": null,
      "metadata": {
        "colab": {
          "base_uri": "https://localhost:8080/"
        },
        "id": "2bVTf1fymStw",
        "outputId": "27e40ec9-88db-4a43-bf6b-7c7eac97bbb8"
      },
      "outputs": [
        {
          "output_type": "stream",
          "name": "stdout",
          "text": [
            "+------------+------------------+\n",
            "|Pickup_Month|max(trip_distance)|\n",
            "+------------+------------------+\n",
            "|          11|             10.07|\n",
            "|          12|            407.78|\n",
            "|           5|              1.14|\n",
            "|           6|              5.85|\n",
            "|           1|              9.74|\n",
            "|           4|              5.91|\n",
            "|           2|              2.85|\n",
            "+------------+------------------+\n",
            "\n"
          ]
        }
      ],
      "source": [
        "dataframe.groupBy('Pickup_Month').max('trip_distance').show()"
      ]
    },
    {
      "cell_type": "code",
      "execution_count": null,
      "metadata": {
        "colab": {
          "base_uri": "https://localhost:8080/"
        },
        "id": "UoabOzc0IDgu",
        "outputId": "83a200fa-369e-4cf0-8d44-26583aa01b12"
      },
      "outputs": [
        {
          "output_type": "stream",
          "name": "stdout",
          "text": [
            "+------------+-----------------+\n",
            "|Pickup_Month|max(total_amount)|\n",
            "+------------+-----------------+\n",
            "|          11|             47.3|\n",
            "|          12|          8361.36|\n",
            "|           5|            11.62|\n",
            "|           6|             31.4|\n",
            "|           1|             32.3|\n",
            "|           4|             23.3|\n",
            "|           2|            18.36|\n",
            "+------------+-----------------+\n",
            "\n"
          ]
        }
      ],
      "source": [
        "dataframe.groupBy('Pickup_Month').max('total_amount').show()"
      ]
    },
    {
      "cell_type": "code",
      "execution_count": null,
      "metadata": {
        "colab": {
          "base_uri": "https://localhost:8080/"
        },
        "id": "fS3drlDkIQ9Z",
        "outputId": "dd9b68ec-5b1d-481e-fe9b-147d49002868"
      },
      "outputs": [
        {
          "output_type": "stream",
          "name": "stdout",
          "text": [
            "+------------+--------------+\n",
            "|Pickup_Month|max(Trip_Time)|\n",
            "+------------+--------------+\n",
            "|          11|         84034|\n",
            "|          12|        162820|\n",
            "|           5|           380|\n",
            "|           6|          1854|\n",
            "|           1|          1842|\n",
            "|           4|         26362|\n",
            "|           2|         26066|\n",
            "+------------+--------------+\n",
            "\n"
          ]
        }
      ],
      "source": [
        "dataframe.groupBy('Pickup_Month').max('Trip_Time').show()"
      ]
    },
    {
      "cell_type": "markdown",
      "metadata": {
        "id": "l1mLIJ1ke0ZK"
      },
      "source": [
        "# **Question 2**\n",
        "Get the details of the trip that has traveled the maximum distance in the month. The details should contain pickup date & time, drop off date & time, day of the week, pickup zone, drop off zone, number of passengers, distance travelled, amount charged and time duration of the trip"
      ]
    },
    {
      "cell_type": "code",
      "execution_count": null,
      "metadata": {
        "id": "4q12xGB2lHX_",
        "colab": {
          "base_uri": "https://localhost:8080/"
        },
        "outputId": "465fc108-7394-448c-b37e-c1f43f00f49b"
      },
      "outputs": [
        {
          "output_type": "stream",
          "name": "stdout",
          "text": [
            "+--------------------+---------------------+----------+--------------------+--------------------+---------------+-------------+------------+---------+\n",
            "|tpep_pickup_datetime|tpep_dropoff_datetime|Pickup_Day|             PU_Zone|             DO_Zone|passenger_count|trip_distance|total_amount|Trip_Time|\n",
            "+--------------------+---------------------+----------+--------------------+--------------------+---------------+-------------+------------+---------+\n",
            "| 2009-01-01 00:46:10|  2009-01-01 01:16:52|       Thu|         JFK Airport|            Canarsie|              2|         9.36|        29.3|     1842|\n",
            "| 2020-11-30 23:36:21|  2020-11-30 23:57:45|       Mon|   LaGuardia Airport| Lincoln Square East|              1|        10.07|        47.3|     1284|\n",
            "| 2020-12-06 07:33:27|  2020-12-06 14:01:29|       Sun|                  NV|                  NA|              1|       407.78|      215.55|    23282|\n",
            "| 2021-01-01 00:10:00|  2021-01-01 00:30:47|       Fri|        East Chelsea|Washington Height...|              1|         9.74|        32.3|     1247|\n",
            "| 2021-02-02 08:54:06|  2021-02-02 16:08:32|       Tue|Upper West Side S...|        Midtown East|              1|         2.85|       18.36|    26066|\n",
            "| 2021-04-28 18:43:30|  2021-04-29 02:02:52|       Wed|         Murray Hill|Financial Distric...|              1|         5.91|        23.3|    26362|\n",
            "| 2021-05-20 02:40:50|  2021-05-20 02:47:10|       Thu|   Battery Park City|Financial Distric...|              1|         1.14|         9.8|      380|\n",
            "| 2021-06-10 10:10:48|  2021-06-10 10:41:42|       Thu|   Battery Park City|Upper West Side S...|              1|         5.85|        31.4|     1854|\n",
            "+--------------------+---------------------+----------+--------------------+--------------------+---------------+-------------+------------+---------+\n",
            "\n"
          ]
        }
      ],
      "source": [
        "spark.sql('SELECT tpep_pickup_datetime, tpep_dropoff_datetime, Pickup_Day, PU_Zone, DO_Zone,\\\n",
        "           passenger_count, trip_distance, total_amount, Trip_Time\\\n",
        "           FROM (SELECT *, row_number() over(partition by Pickup_Year, Pickup_Month \\\n",
        "           ORDER BY trip_distance DESC) rn \\\n",
        "           FROM df4 ) WHERE rn = 1').show()"
      ]
    },
    {
      "cell_type": "code",
      "source": [],
      "metadata": {
        "id": "OQwy4FrAqd1M"
      },
      "execution_count": null,
      "outputs": []
    },
    {
      "cell_type": "code",
      "source": [
        "# Verifying\n",
        "spark.sql('SELECT * FROM df4 WHERE Pickup_Month =1 AND Pickup_Year = 2009 ORDER BY trip_distance DESC').show()"
      ],
      "metadata": {
        "colab": {
          "base_uri": "https://localhost:8080/"
        },
        "id": "e27ZyUI1OpII",
        "outputId": "e1643ce4-7e23-4d7a-86b7-174ed852d6fc"
      },
      "execution_count": null,
      "outputs": [
        {
          "output_type": "stream",
          "name": "stdout",
          "text": [
            "+--------+--------------------+---------------------+---------------+-------------+----------+------------------+------------+----------+-----------+--------------+------------+----------+--------+--------------+------------+-----------+-----+-------+----------+------------+---------------------+------------+--------------------+-----------+----------+------------+-----------+-----------+-------------+-------------+------------+-----------+-------------+------------+------------+--------------+--------------+---------+\n",
            "|VendorID|tpep_pickup_datetime|tpep_dropoff_datetime|passenger_count|trip_distance|RatecodeID|store_and_fwd_flag|PULocationID|PU_Borough|    PU_Zone|PU_ServiceZone|DOLocationID|DO_Borough| DO_Zone|DO_ServiceZone|payment_type|fare_amount|extra|mta_tax|tip_amount|tolls_amount|improvement_surcharge|total_amount|congestion_surcharge|Pickup_Date|Pickup_Day|Pickup_Month|Pickup_Year|Pickup_Hour|Pickup_Minute|Pickup_Second|Dropoff_Date|Dropoff_Day|Dropoff_Month|Dropoff_Year|Dropoff_Hour|Dropoff_Minute|Dropoff_Second|Trip_Time|\n",
            "+--------+--------------------+---------------------+---------------+-------------+----------+------------------+------------+----------+-----------+--------------+------------+----------+--------+--------------+------------+-----------+-----+-------+----------+------------+---------------------+------------+--------------------+-----------+----------+------------+-----------+-----------+-------------+-------------+------------+-----------+-------------+------------+------------+--------------+--------------+---------+\n",
            "|       2| 2009-01-01 00:46:10|  2009-01-01 01:16:52|              2|         9.36|         1|                 N|         132|    Queens|JFK Airport|      Airports|          39|  Brooklyn|Canarsie|     Boro Zone|           2|       28.5|  0.0|    0.5|       0.0|         0.0|                  0.3|        29.3|                 0.0|          1|       Thu|           1|       2009|          0|           46|           10|           1|        Thu|            1|        2009|           1|            16|            52|     1842|\n",
            "|       2| 2009-01-01 00:34:29|  2009-01-01 00:52:13|              1|         4.99|         1|                 N|         132|    Queens|JFK Airport|      Airports|         203|    Queens|Rosedale|     Boro Zone|           2|       16.0|  0.5|    0.5|       0.0|         0.0|                  0.3|        17.3|                 0.0|          1|       Thu|           1|       2009|          0|           34|           29|           1|        Thu|            1|        2009|           0|            52|            13|     1064|\n",
            "+--------+--------------------+---------------------+---------------+-------------+----------+------------------+------------+----------+-----------+--------------+------------+----------+--------+--------------+------------+-----------+-----+-------+----------+------------+---------------------+------------+--------------------+-----------+----------+------------+-----------+-----------+-------------+-------------+------------+-----------+-------------+------------+------------+--------------+--------------+---------+\n",
            "\n"
          ]
        }
      ]
    },
    {
      "cell_type": "markdown",
      "source": [
        "# Question 3\n",
        "Get the details of the trip that has charged the maximum amount for a trip in the month. The details should contain pickup date & time, drop off date & time, day of the week, pickup zone, drop off zone, number of passengers, distance travelled, amount charged and time duration of the trip"
      ],
      "metadata": {
        "id": "5R91WQ-ZWgw9"
      }
    },
    {
      "cell_type": "code",
      "source": [
        "spark.sql('SELECT tpep_pickup_datetime, tpep_dropoff_datetime, Pickup_Day, PU_Zone, DO_Zone,\\\n",
        "           passenger_count, trip_distance, total_amount, Trip_Time\\\n",
        "           FROM (SELECT *, row_number() over(partition by Pickup_Year, Pickup_Month ORDER BY total_amount DESC) rn \\\n",
        "           FROM df4 ) WHERE rn = 1').show()"
      ],
      "metadata": {
        "colab": {
          "base_uri": "https://localhost:8080/"
        },
        "id": "MxEvVLAOWjcS",
        "outputId": "5edb6278-fb29-4aec-bba2-a1a324f82877"
      },
      "execution_count": null,
      "outputs": [
        {
          "output_type": "stream",
          "name": "stdout",
          "text": [
            "+--------------------+---------------------+----------+--------------------+--------------------+---------------+-------------+------------+---------+\n",
            "|tpep_pickup_datetime|tpep_dropoff_datetime|Pickup_Day|             PU_Zone|             DO_Zone|passenger_count|trip_distance|total_amount|Trip_Time|\n",
            "+--------------------+---------------------+----------+--------------------+--------------------+---------------+-------------+------------+---------+\n",
            "| 2009-01-01 00:46:10|  2009-01-01 01:16:52|       Thu|         JFK Airport|            Canarsie|              2|         9.36|        29.3|     1842|\n",
            "| 2020-11-30 23:36:21|  2020-11-30 23:57:45|       Mon|   LaGuardia Airport| Lincoln Square East|              1|        10.07|        47.3|     1284|\n",
            "| 2020-12-20 23:01:34|  2020-12-20 23:14:21|       Sun|        West Village|        Clinton West|              1|         4.51|     8361.36|      767|\n",
            "| 2021-01-01 00:10:00|  2021-01-01 00:30:47|       Fri|        East Chelsea|Washington Height...|              1|         9.74|        32.3|     1247|\n",
            "| 2021-02-02 08:54:06|  2021-02-02 16:08:32|       Tue|Upper West Side S...|        Midtown East|              1|         2.85|       18.36|    26066|\n",
            "| 2021-04-28 18:43:30|  2021-04-29 02:02:52|       Wed|         Murray Hill|Financial Distric...|              1|         5.91|        23.3|    26362|\n",
            "| 2021-05-20 02:07:54|  2021-05-20 02:13:51|       Thu|  World Trade Center|   Battery Park City|              1|         0.98|       11.62|      357|\n",
            "| 2021-06-10 10:10:48|  2021-06-10 10:41:42|       Thu|   Battery Park City|Upper West Side S...|              1|         5.85|        31.4|     1854|\n",
            "+--------------------+---------------------+----------+--------------------+--------------------+---------------+-------------+------------+---------+\n",
            "\n"
          ]
        }
      ]
    },
    {
      "cell_type": "code",
      "source": [],
      "metadata": {
        "id": "N7kLKB1mtV04"
      },
      "execution_count": null,
      "outputs": []
    },
    {
      "cell_type": "code",
      "source": [
        "# Verifying\n",
        "spark.sql('SELECT * FROM df4 WHERE Pickup_Month =1 AND Pickup_Year = 2009 ORDER BY total_amount DESC LIMIT 1').show()"
      ],
      "metadata": {
        "colab": {
          "base_uri": "https://localhost:8080/"
        },
        "id": "o9OCHfcmYPU_",
        "outputId": "b77b575b-6e25-4cd6-da6c-d18192c8f335"
      },
      "execution_count": null,
      "outputs": [
        {
          "output_type": "stream",
          "name": "stdout",
          "text": [
            "+--------+--------------------+---------------------+---------------+-------------+----------+------------------+------------+----------+-----------+--------------+------------+----------+--------+--------------+------------+-----------+-----+-------+----------+------------+---------------------+------------+--------------------+-----------+----------+------------+-----------+-----------+-------------+-------------+------------+-----------+-------------+------------+------------+--------------+--------------+---------+\n",
            "|VendorID|tpep_pickup_datetime|tpep_dropoff_datetime|passenger_count|trip_distance|RatecodeID|store_and_fwd_flag|PULocationID|PU_Borough|    PU_Zone|PU_ServiceZone|DOLocationID|DO_Borough| DO_Zone|DO_ServiceZone|payment_type|fare_amount|extra|mta_tax|tip_amount|tolls_amount|improvement_surcharge|total_amount|congestion_surcharge|Pickup_Date|Pickup_Day|Pickup_Month|Pickup_Year|Pickup_Hour|Pickup_Minute|Pickup_Second|Dropoff_Date|Dropoff_Day|Dropoff_Month|Dropoff_Year|Dropoff_Hour|Dropoff_Minute|Dropoff_Second|Trip_Time|\n",
            "+--------+--------------------+---------------------+---------------+-------------+----------+------------------+------------+----------+-----------+--------------+------------+----------+--------+--------------+------------+-----------+-----+-------+----------+------------+---------------------+------------+--------------------+-----------+----------+------------+-----------+-----------+-------------+-------------+------------+-----------+-------------+------------+------------+--------------+--------------+---------+\n",
            "|       2| 2009-01-01 00:46:10|  2009-01-01 01:16:52|              2|         9.36|         1|                 N|         132|    Queens|JFK Airport|      Airports|          39|  Brooklyn|Canarsie|     Boro Zone|           2|       28.5|  0.0|    0.5|       0.0|         0.0|                  0.3|        29.3|                 0.0|          1|       Thu|           1|       2009|          0|           46|           10|           1|        Thu|            1|        2009|           1|            16|            52|     1842|\n",
            "+--------+--------------------+---------------------+---------------+-------------+----------+------------------+------------+----------+-----------+--------------+------------+----------+--------+--------------+------------+-----------+-----+-------+----------+------------+---------------------+------------+--------------------+-----------+----------+------------+-----------+-----------+-------------+-------------+------------+-----------+-------------+------------+------------+--------------+--------------+---------+\n",
            "\n"
          ]
        }
      ]
    },
    {
      "cell_type": "markdown",
      "metadata": {
        "id": "nTQZgJfjr943"
      },
      "source": [
        "# Question 4\n",
        "Get the number of trips for which congestion surcharge is charged."
      ]
    },
    {
      "cell_type": "code",
      "execution_count": null,
      "metadata": {
        "id": "MksyAru-cGCq",
        "colab": {
          "base_uri": "https://localhost:8080/"
        },
        "outputId": "001f27b0-213a-4d3f-975d-7d47c30742d3"
      },
      "outputs": [
        {
          "output_type": "stream",
          "name": "stdout",
          "text": [
            "+-------------------------------------+\n",
            "|No_of_trips_with_congestion_surcharge|\n",
            "+-------------------------------------+\n",
            "|                              1211755|\n",
            "+-------------------------------------+\n",
            "\n"
          ]
        }
      ],
      "source": [
        "spark.sql('SELECT COUNT(*) as No_of_trips_with_congestion_surcharge FROM df4\\\n",
        "           WHERE congestion_surcharge != 0').show()"
      ]
    },
    {
      "cell_type": "code",
      "source": [
        "spark.sql('SELECT COUNT(*) AS total_trips FROM df4').show()"
      ],
      "metadata": {
        "colab": {
          "base_uri": "https://localhost:8080/"
        },
        "id": "eU9i_iD6uEyO",
        "outputId": "4107a966-b97d-4498-a26d-b1eadab6a7c0"
      },
      "execution_count": null,
      "outputs": [
        {
          "output_type": "stream",
          "name": "stdout",
          "text": [
            "+-----------+\n",
            "|total_trips|\n",
            "+-----------+\n",
            "|    1311670|\n",
            "+-----------+\n",
            "\n"
          ]
        }
      ]
    },
    {
      "cell_type": "markdown",
      "metadata": {
        "id": "kYfgV9xTtFsA"
      },
      "source": [
        "# Question 5\n",
        "Get the number of trips for which congestion surcharge is charged with a break up of the surcharge amount."
      ]
    },
    {
      "cell_type": "code",
      "source": [
        "dataframe4.groupBy('congestion_surcharge').count().show()"
      ],
      "metadata": {
        "colab": {
          "base_uri": "https://localhost:8080/"
        },
        "id": "c636dhLwd4YB",
        "outputId": "a5113058-ffd6-48d6-ba02-f86eb4db8e19"
      },
      "execution_count": null,
      "outputs": [
        {
          "output_type": "stream",
          "name": "stdout",
          "text": [
            "+--------------------+-------+\n",
            "|congestion_surcharge|  count|\n",
            "+--------------------+-------+\n",
            "|                 0.0|  99915|\n",
            "|                 2.5|1211755|\n",
            "+--------------------+-------+\n",
            "\n"
          ]
        }
      ]
    },
    {
      "cell_type": "code",
      "source": [
        "spark.sql('SELECT COUNT(*) FROM df4 WHERE congestion_surcharge != 0 AND improvement_surcharge != 0').show()"
      ],
      "metadata": {
        "colab": {
          "base_uri": "https://localhost:8080/"
        },
        "id": "jRTJ7zc5bxVe",
        "outputId": "252785a5-454f-4267-a63e-359737ca61a0"
      },
      "execution_count": null,
      "outputs": [
        {
          "output_type": "stream",
          "name": "stdout",
          "text": [
            "+--------+\n",
            "|count(1)|\n",
            "+--------+\n",
            "| 1211726|\n",
            "+--------+\n",
            "\n"
          ]
        }
      ]
    },
    {
      "cell_type": "markdown",
      "source": [
        "# Question 6\n",
        "Get the percentage of trips for which congestion surcharge is charged out of the total trips of the month."
      ],
      "metadata": {
        "id": "Xnbg4Wb2e3zc"
      }
    },
    {
      "cell_type": "code",
      "execution_count": null,
      "metadata": {
        "id": "9Aig6nV6teHC"
      },
      "outputs": [],
      "source": [
        "#dataframe5 = dataframe4.groupBy(['Pickup_Month','congestion_surcharge']).count()\n",
        "#dataframe5.show()"
      ]
    },
    {
      "cell_type": "code",
      "source": [
        "dataframe5 = dataframe4.filter(dataframe4['congestion_surcharge'] > 0)\n",
        "dataframe5 = dataframe5.groupBy(['Pickup_Month','congestion_surcharge']).count()\n",
        "dataframe5.show()"
      ],
      "metadata": {
        "colab": {
          "base_uri": "https://localhost:8080/"
        },
        "id": "y__q0rUDwX1G",
        "outputId": "73dca42a-b120-4970-dca4-aef0e1efd839"
      },
      "execution_count": null,
      "outputs": [
        {
          "output_type": "stream",
          "name": "stdout",
          "text": [
            "+------------+--------------------+-------+\n",
            "|Pickup_Month|congestion_surcharge|  count|\n",
            "+------------+--------------------+-------+\n",
            "|          11|                 2.5|     12|\n",
            "|          12|                 2.5|1211730|\n",
            "|           1|                 2.5|      3|\n",
            "|           5|                 2.5|      2|\n",
            "|           4|                 2.5|      3|\n",
            "|           6|                 2.5|      1|\n",
            "|           2|                 2.5|      4|\n",
            "+------------+--------------------+-------+\n",
            "\n"
          ]
        }
      ]
    },
    {
      "cell_type": "code",
      "source": [
        "import pyspark.sql.functions as f\n",
        "from pyspark.sql.window import Window\n",
        "\n",
        "dataframe5 = dataframe5\\\n",
        "  .withColumn('total', f.sum('count').over(Window.partitionBy()))\\\n",
        "  .withColumn('percent', format_number(f.col('count')/f.col('total'),6))\n",
        "  \n",
        "dataframe5.show()"
      ],
      "metadata": {
        "colab": {
          "base_uri": "https://localhost:8080/"
        },
        "id": "07P72s0gaNWZ",
        "outputId": "6c6a023a-f952-4f9e-e2bb-ca3a3ae4ed68"
      },
      "execution_count": null,
      "outputs": [
        {
          "output_type": "stream",
          "name": "stdout",
          "text": [
            "+------------+--------------------+-------+-------+--------+\n",
            "|Pickup_Month|congestion_surcharge|  count|  total| percent|\n",
            "+------------+--------------------+-------+-------+--------+\n",
            "|          11|                 2.5|     12|1211755|0.000010|\n",
            "|          12|                 2.5|1211730|1211755|0.999979|\n",
            "|           1|                 2.5|      3|1211755|0.000002|\n",
            "|           5|                 2.5|      2|1211755|0.000002|\n",
            "|           4|                 2.5|      3|1211755|0.000002|\n",
            "|           6|                 2.5|      1|1211755|0.000001|\n",
            "|           2|                 2.5|      4|1211755|0.000003|\n",
            "+------------+--------------------+-------+-------+--------+\n",
            "\n"
          ]
        }
      ]
    },
    {
      "cell_type": "markdown",
      "source": [
        "# Question 7\n",
        "Write a query get a list of total trips,\n",
        "\n",
        "\n",
        "*   maximum distance traveled by a trip, maximum amount charged for a trip, maximum time duration traveled in a trip with a break. up of the day of the week.\n",
        "*   For each day of week it should list the total number of trips in thatmonth, max distance traveled by a trip, max amount charged for a trip and max time duration travelled in a trip.\n",
        "\n"
      ],
      "metadata": {
        "id": "61daON1lhD9C"
      }
    },
    {
      "cell_type": "code",
      "source": [
        "dataframe.groupBy('Pickup_Day').max('trip_distance').show()"
      ],
      "metadata": {
        "colab": {
          "base_uri": "https://localhost:8080/"
        },
        "id": "zdUhjD-8hGCM",
        "outputId": "e4d6593f-2805-46d6-a151-4bd7d7e2904b"
      },
      "execution_count": null,
      "outputs": [
        {
          "output_type": "stream",
          "name": "stdout",
          "text": [
            "+----------+------------------+\n",
            "|Pickup_Day|max(trip_distance)|\n",
            "+----------+------------------+\n",
            "|       Sun|            407.78|\n",
            "|       Mon|             190.4|\n",
            "|       Thu|            187.65|\n",
            "|       Sat|             119.8|\n",
            "|       Wed|             125.6|\n",
            "|       Tue|             94.81|\n",
            "|       Fri|             118.7|\n",
            "+----------+------------------+\n",
            "\n"
          ]
        }
      ]
    },
    {
      "cell_type": "code",
      "source": [
        "dataframe.groupBy('Pickup_Day').max('total_amount').show()"
      ],
      "metadata": {
        "colab": {
          "base_uri": "https://localhost:8080/"
        },
        "id": "_cbAUAwmhK8r",
        "outputId": "1ef6c9cf-54e8-45fb-a463-90aca99682d0"
      },
      "execution_count": null,
      "outputs": [
        {
          "output_type": "stream",
          "name": "stdout",
          "text": [
            "+----------+-----------------+\n",
            "|Pickup_Day|max(total_amount)|\n",
            "+----------+-----------------+\n",
            "|       Sun|          8361.36|\n",
            "|       Mon|           416.42|\n",
            "|       Thu|           526.41|\n",
            "|       Sat|           461.67|\n",
            "|       Wed|            556.3|\n",
            "|       Tue|           561.42|\n",
            "|       Fri|           387.55|\n",
            "+----------+-----------------+\n",
            "\n"
          ]
        }
      ]
    },
    {
      "cell_type": "code",
      "source": [
        "dataframe.groupBy('Pickup_Day').max('Trip_Time').show()"
      ],
      "metadata": {
        "colab": {
          "base_uri": "https://localhost:8080/"
        },
        "id": "iyOBxSnjhVko",
        "outputId": "24222cf6-69b2-4cca-ed98-c0242612be8e"
      },
      "execution_count": null,
      "outputs": [
        {
          "output_type": "stream",
          "name": "stdout",
          "text": [
            "+----------+--------------+\n",
            "|Pickup_Day|max(Trip_Time)|\n",
            "+----------+--------------+\n",
            "|       Sun|         86368|\n",
            "|       Mon|         86375|\n",
            "|       Thu|        162820|\n",
            "|       Sat|         86372|\n",
            "|       Wed|         86351|\n",
            "|       Tue|         86358|\n",
            "|       Fri|         86373|\n",
            "+----------+--------------+\n",
            "\n"
          ]
        }
      ]
    },
    {
      "cell_type": "markdown",
      "source": [
        "# Question 8\n",
        "Get the details of the trip that has traveled the maximum distance with a break up of day of week in the month. The details should contain pickup date & time, drop off date & time, day of the week, pickup zone, drop off zone, number of passengers, distance travelled, amount charged and time duration of the trip."
      ],
      "metadata": {
        "id": "qeIorl59Qc2y"
      }
    },
    {
      "cell_type": "code",
      "source": [
        "spark.sql('SELECT tpep_pickup_datetime, tpep_dropoff_datetime, Pickup_Day, PU_Zone, DO_Zone, passenger_count, trip_distance, \\\n",
        "           total_amount, Trip_Time FROM (SELECT *, row_number() over(partition by Pickup_Year, Pickup_Month, Pickup_Day ORDER BY trip_distance DESC) rn \\\n",
        "           FROM df4 ) WHERE rn = 1').show()"
      ],
      "metadata": {
        "colab": {
          "base_uri": "https://localhost:8080/"
        },
        "id": "vZd7uNvPSxUa",
        "outputId": "79b5e20e-6a6c-40cc-f634-0d87803e2139"
      },
      "execution_count": null,
      "outputs": [
        {
          "output_type": "stream",
          "name": "stdout",
          "text": [
            "+--------------------+---------------------+----------+--------------------+--------------------+---------------+-------------+------------+---------+\n",
            "|tpep_pickup_datetime|tpep_dropoff_datetime|Pickup_Day|             PU_Zone|             DO_Zone|passenger_count|trip_distance|total_amount|Trip_Time|\n",
            "+--------------------+---------------------+----------+--------------------+--------------------+---------------+-------------+------------+---------+\n",
            "| 2009-01-01 00:46:10|  2009-01-01 01:16:52|       Thu|         JFK Airport|            Canarsie|              2|         9.36|        29.3|     1842|\n",
            "| 2020-11-30 23:36:21|  2020-11-30 23:57:45|       Mon|   LaGuardia Airport| Lincoln Square East|              1|        10.07|        47.3|     1284|\n",
            "| 2020-12-18 11:19:11|  2020-12-18 13:41:07|       Fri|            Glendale|      Newark Airport|              1|        118.7|      201.77|     8516|\n",
            "| 2020-12-19 08:25:01|  2020-12-19 11:45:34|       Sat|     Lenox Hill West|         Brownsville|              2|        119.8|      363.54|    12033|\n",
            "| 2020-12-06 07:33:27|  2020-12-06 14:01:29|       Sun|                  NV|                  NA|              1|       407.78|      215.55|    23282|\n",
            "| 2020-12-10 08:24:37|  2020-12-10 11:15:21|       Thu|                  NA|                  NA|              2|       187.65|       470.3|    10244|\n",
            "| 2021-01-20 12:25:47|  2021-01-20 12:34:29|       Wed|         Murray Hill|        East Village|              1|         1.56|       14.76|      522|\n",
            "| 2021-02-02 08:54:06|  2021-02-02 16:08:32|       Tue|Upper West Side S...|        Midtown East|              1|         2.85|       18.36|    26066|\n",
            "| 2021-02-10 19:55:55|  2021-02-10 20:04:09|       Wed|                SoHo|  World Trade Center|              1|         1.49|       14.16|      494|\n",
            "| 2021-04-28 18:43:30|  2021-04-29 02:02:52|       Wed|         Murray Hill|Financial Distric...|              1|         5.91|        23.3|    26362|\n",
            "| 2021-06-10 10:10:48|  2021-06-10 10:41:42|       Thu|   Battery Park City|Upper West Side S...|              1|         5.85|        31.4|     1854|\n",
            "| 2020-12-28 02:09:52|  2020-12-28 05:27:08|       Mon|         Murray Hill|                  NA|              1|        190.4|       360.0|    11836|\n",
            "| 2020-12-16 19:55:44|  2020-12-17 00:43:24|       Wed|         JFK Airport|                  NA|              1|        125.6|      276.42|    17260|\n",
            "| 2021-05-20 02:40:50|  2021-05-20 02:47:10|       Thu|   Battery Park City|Financial Distric...|              1|         1.14|         9.8|      380|\n",
            "| 2020-12-01 07:06:03|  2020-12-01 09:06:34|       Tue|        Bedford Park|                  NA|              1|        94.81|       244.8|     7231|\n",
            "| 2021-01-01 00:10:00|  2021-01-01 00:30:47|       Fri|        East Chelsea|Washington Height...|              1|         9.74|        32.3|     1247|\n",
            "+--------------------+---------------------+----------+--------------------+--------------------+---------------+-------------+------------+---------+\n",
            "\n"
          ]
        }
      ]
    },
    {
      "cell_type": "code",
      "source": [
        "# Verifying\n",
        "spark.sql('SELECT * FROM df4 WHERE Pickup_Month =11 AND Pickup_Year = 2020 AND Pickup_Day = \"Mon\" ORDER BY trip_distance DESC LIMIT 1').show()"
      ],
      "metadata": {
        "colab": {
          "base_uri": "https://localhost:8080/"
        },
        "id": "GG8_GdqOQ6IN",
        "outputId": "40ee0d6c-2638-4c05-efb6-7c23c3737d5e"
      },
      "execution_count": null,
      "outputs": [
        {
          "output_type": "stream",
          "name": "stdout",
          "text": [
            "+--------+--------------------+---------------------+---------------+-------------+----------+------------------+------------+----------+-----------------+--------------+------------+----------+-------------------+--------------+------------+-----------+-----+-------+----------+------------+---------------------+------------+--------------------+-----------+----------+------------+-----------+-----------+-------------+-------------+------------+-----------+-------------+------------+------------+--------------+--------------+---------+\n",
            "|VendorID|tpep_pickup_datetime|tpep_dropoff_datetime|passenger_count|trip_distance|RatecodeID|store_and_fwd_flag|PULocationID|PU_Borough|          PU_Zone|PU_ServiceZone|DOLocationID|DO_Borough|            DO_Zone|DO_ServiceZone|payment_type|fare_amount|extra|mta_tax|tip_amount|tolls_amount|improvement_surcharge|total_amount|congestion_surcharge|Pickup_Date|Pickup_Day|Pickup_Month|Pickup_Year|Pickup_Hour|Pickup_Minute|Pickup_Second|Dropoff_Date|Dropoff_Day|Dropoff_Month|Dropoff_Year|Dropoff_Hour|Dropoff_Minute|Dropoff_Second|Trip_Time|\n",
            "+--------+--------------------+---------------------+---------------+-------------+----------+------------------+------------+----------+-----------------+--------------+------------+----------+-------------------+--------------+------------+-----------+-----+-------+----------+------------+---------------------+------------+--------------------+-----------+----------+------------+-----------+-----------+-------------+-------------+------------+-----------+-------------+------------+------------+--------------+--------------+---------+\n",
            "|       2| 2020-11-30 23:36:21|  2020-11-30 23:57:45|              1|        10.07|         1|                 N|         138|    Queens|LaGuardia Airport|      Airports|         142| Manhattan|Lincoln Square East|   Yellow Zone|           1|       29.5|  0.5|    0.5|      7.88|        6.12|                  0.3|        47.3|                 2.5|         30|       Mon|          11|       2020|         23|           36|           21|          30|        Mon|           11|        2020|          23|            57|            45|     1284|\n",
            "+--------+--------------------+---------------------+---------------+-------------+----------+------------------+------------+----------+-----------------+--------------+------------+----------+-------------------+--------------+------------+-----------+-----+-------+----------+------------+---------------------+------------+--------------------+-----------+----------+------------+-----------+-----------+-------------+-------------+------------+-----------+-------------+------------+------------+--------------+--------------+---------+\n",
            "\n"
          ]
        }
      ]
    },
    {
      "cell_type": "markdown",
      "source": [
        "# Question 9\n",
        "Get the details of the trip that has charged the maximum amount with a break up of day of week in the month. The details should contain pickup date & time, drop off date & time, day of the week, pickup zone, drop off zone, number of passengers, distance travelled, amount charged and time duration of the trip"
      ],
      "metadata": {
        "id": "r34AlLerT2z0"
      }
    },
    {
      "cell_type": "code",
      "source": [
        "spark.sql('SELECT tpep_pickup_datetime, tpep_dropoff_datetime, Pickup_Day, PU_Zone, DO_Zone, passenger_count, trip_distance, \\\n",
        "           total_amount, Trip_Time FROM (SELECT *, row_number() over(partition by Pickup_Year, Pickup_Month, Pickup_Day ORDER BY total_amount DESC) rn \\\n",
        "           FROM df4 ) WHERE rn = 1').show()"
      ],
      "metadata": {
        "colab": {
          "base_uri": "https://localhost:8080/"
        },
        "id": "cWrAE9ciT47K",
        "outputId": "4b8f5cbb-3d1e-476f-c35d-9192e399f1d3"
      },
      "execution_count": null,
      "outputs": [
        {
          "output_type": "stream",
          "name": "stdout",
          "text": [
            "+--------------------+---------------------+----------+--------------------+--------------------+---------------+-------------+------------+---------+\n",
            "|tpep_pickup_datetime|tpep_dropoff_datetime|Pickup_Day|             PU_Zone|             DO_Zone|passenger_count|trip_distance|total_amount|Trip_Time|\n",
            "+--------------------+---------------------+----------+--------------------+--------------------+---------------+-------------+------------+---------+\n",
            "| 2009-01-01 00:46:10|  2009-01-01 01:16:52|       Thu|         JFK Airport|            Canarsie|              2|         9.36|        29.3|     1842|\n",
            "| 2020-11-30 23:36:21|  2020-11-30 23:57:45|       Mon|   LaGuardia Airport| Lincoln Square East|              1|        10.07|        47.3|     1284|\n",
            "| 2020-12-11 11:08:21|  2020-12-11 15:12:40|       Fri|      Midtown Center|                  NA|              1|        85.89|      387.55|    14659|\n",
            "| 2020-12-26 17:48:38|  2020-12-26 19:21:32|       Sat|         JFK Airport|                  NA|              1|         95.1|      461.67|     5574|\n",
            "| 2020-12-20 23:01:34|  2020-12-20 23:14:21|       Sun|        West Village|        Clinton West|              1|         4.51|     8361.36|      767|\n",
            "| 2020-12-24 03:23:53|  2020-12-24 04:55:30|       Thu|Penn Station/Madi...|                  NA|              1|        85.36|      526.41|     5497|\n",
            "| 2021-01-20 12:25:47|  2021-01-20 12:34:29|       Wed|         Murray Hill|        East Village|              1|         1.56|       14.76|      522|\n",
            "| 2021-02-02 08:54:06|  2021-02-02 16:08:32|       Tue|Upper West Side S...|        Midtown East|              1|         2.85|       18.36|    26066|\n",
            "| 2021-02-10 19:55:55|  2021-02-10 20:04:09|       Wed|                SoHo|  World Trade Center|              1|         1.49|       14.16|      494|\n",
            "| 2021-04-28 18:43:30|  2021-04-29 02:02:52|       Wed|         Murray Hill|Financial Distric...|              1|         5.91|        23.3|    26362|\n",
            "| 2021-06-10 10:10:48|  2021-06-10 10:41:42|       Thu|   Battery Park City|Upper West Side S...|              1|         5.85|        31.4|     1854|\n",
            "| 2020-12-14 23:29:21|  2020-12-15 04:22:51|       Mon|         Murray Hill|                  NA|              1|        133.6|      416.42|    17610|\n",
            "| 2020-12-23 06:42:32|  2020-12-23 07:48:01|       Wed|                  NA|                  NA|              1|         59.3|       556.3|     3929|\n",
            "| 2021-05-20 02:07:54|  2021-05-20 02:13:51|       Thu|  World Trade Center|   Battery Park City|              1|         0.98|       11.62|      357|\n",
            "| 2020-12-22 04:09:37|  2020-12-22 04:38:19|       Tue| Lincoln Square East|         JFK Airport|              1|         21.3|      561.42|     1722|\n",
            "| 2021-01-01 00:10:00|  2021-01-01 00:30:47|       Fri|        East Chelsea|Washington Height...|              1|         9.74|        32.3|     1247|\n",
            "+--------------------+---------------------+----------+--------------------+--------------------+---------------+-------------+------------+---------+\n",
            "\n"
          ]
        }
      ]
    },
    {
      "cell_type": "code",
      "source": [
        "# Verifying\n",
        "spark.sql('SELECT * FROM df4 WHERE Pickup_Month =11 AND Pickup_Year = 2020 AND Pickup_Day = \"Mon\" ORDER BY total_amount DESC LIMIT 1').show()"
      ],
      "metadata": {
        "colab": {
          "base_uri": "https://localhost:8080/"
        },
        "id": "ind7QLspVI5l",
        "outputId": "ed3fa80e-a5d1-42ee-dc82-4bd929d28faf"
      },
      "execution_count": null,
      "outputs": [
        {
          "output_type": "stream",
          "name": "stdout",
          "text": [
            "+--------+--------------------+---------------------+---------------+-------------+----------+------------------+------------+----------+-----------------+--------------+------------+----------+-------------------+--------------+------------+-----------+-----+-------+----------+------------+---------------------+------------+--------------------+-----------+----------+------------+-----------+-----------+-------------+-------------+------------+-----------+-------------+------------+------------+--------------+--------------+---------+\n",
            "|VendorID|tpep_pickup_datetime|tpep_dropoff_datetime|passenger_count|trip_distance|RatecodeID|store_and_fwd_flag|PULocationID|PU_Borough|          PU_Zone|PU_ServiceZone|DOLocationID|DO_Borough|            DO_Zone|DO_ServiceZone|payment_type|fare_amount|extra|mta_tax|tip_amount|tolls_amount|improvement_surcharge|total_amount|congestion_surcharge|Pickup_Date|Pickup_Day|Pickup_Month|Pickup_Year|Pickup_Hour|Pickup_Minute|Pickup_Second|Dropoff_Date|Dropoff_Day|Dropoff_Month|Dropoff_Year|Dropoff_Hour|Dropoff_Minute|Dropoff_Second|Trip_Time|\n",
            "+--------+--------------------+---------------------+---------------+-------------+----------+------------------+------------+----------+-----------------+--------------+------------+----------+-------------------+--------------+------------+-----------+-----+-------+----------+------------+---------------------+------------+--------------------+-----------+----------+------------+-----------+-----------+-------------+-------------+------------+-----------+-------------+------------+------------+--------------+--------------+---------+\n",
            "|       2| 2020-11-30 23:36:21|  2020-11-30 23:57:45|              1|        10.07|         1|                 N|         138|    Queens|LaGuardia Airport|      Airports|         142| Manhattan|Lincoln Square East|   Yellow Zone|           1|       29.5|  0.5|    0.5|      7.88|        6.12|                  0.3|        47.3|                 2.5|         30|       Mon|          11|       2020|         23|           36|           21|          30|        Mon|           11|        2020|          23|            57|            45|     1284|\n",
            "+--------+--------------------+---------------------+---------------+-------------+----------+------------------+------------+----------+-----------------+--------------+------------+----------+-------------------+--------------+------------+-----------+-----+-------+----------+------------+---------------------+------------+--------------------+-----------+----------+------------+-----------+-----------+-------------+-------------+------------+-----------+-------------+------------+------------+--------------+--------------+---------+\n",
            "\n"
          ]
        }
      ]
    },
    {
      "cell_type": "markdown",
      "source": [
        "# Question 10\n",
        "Get the details of the trip that has traveled the maximum time duration with a break up of day of week in the month. The details should contain pickup date & time, drop off date & time, day of the week, pickup zone, drop off zone, number of passengers, distance travelled, amount charged and time duration of the trip"
      ],
      "metadata": {
        "id": "suOZH4VFVbZG"
      }
    },
    {
      "cell_type": "code",
      "source": [
        "spark.sql('SELECT tpep_pickup_datetime, tpep_dropoff_datetime, Pickup_Day, PU_Zone, DO_Zone, passenger_count, trip_distance, \\\n",
        "           total_amount, Trip_Time FROM (SELECT *, row_number() over(partition by Pickup_Year, Pickup_Month, Pickup_Day ORDER BY Trip_Time DESC) rn \\\n",
        "           FROM df4 ) WHERE rn = 1').show()"
      ],
      "metadata": {
        "colab": {
          "base_uri": "https://localhost:8080/"
        },
        "id": "EryEaHvEVdgM",
        "outputId": "1d1be726-4331-493e-ea4a-bbdc38d97444"
      },
      "execution_count": null,
      "outputs": [
        {
          "output_type": "stream",
          "name": "stdout",
          "text": [
            "+--------------------+---------------------+----------+--------------------+--------------------+---------------+-------------+------------+---------+\n",
            "|tpep_pickup_datetime|tpep_dropoff_datetime|Pickup_Day|             PU_Zone|             DO_Zone|passenger_count|trip_distance|total_amount|Trip_Time|\n",
            "+--------------------+---------------------+----------+--------------------+--------------------+---------------+-------------+------------+---------+\n",
            "| 2009-01-01 00:46:10|  2009-01-01 01:16:52|       Thu|         JFK Airport|            Canarsie|              2|         9.36|        29.3|     1842|\n",
            "| 2020-11-30 13:23:38|  2020-12-01 12:44:12|       Mon|   LaGuardia Airport|    Hamilton Heights|              1|         8.64|       37.92|    84034|\n",
            "| 2020-12-25 17:56:52|  2020-12-26 17:56:25|       Fri|            Flatiron|       Midtown South|              1|         1.61|       14.04|    86373|\n",
            "| 2020-12-05 16:42:37|  2020-12-06 16:42:09|       Sat|Upper East Side N...|Upper West Side S...|              6|         1.44|       12.43|    86372|\n",
            "| 2020-12-20 12:21:27|  2020-12-21 12:20:55|       Sun|         JFK Airport|                  NV|              1|        35.13|      244.05|    86368|\n",
            "| 2020-12-24 14:50:16|  2020-12-26 12:03:56|       Thu|         JFK Airport|         JFK Airport|              1|         4.99|        16.3|   162820|\n",
            "| 2021-01-20 12:25:47|  2021-01-20 12:34:29|       Wed|         Murray Hill|        East Village|              1|         1.56|       14.76|      522|\n",
            "| 2021-02-02 08:54:06|  2021-02-02 16:08:32|       Tue|Upper West Side S...|        Midtown East|              1|         2.85|       18.36|    26066|\n",
            "| 2021-02-10 19:55:55|  2021-02-10 20:04:09|       Wed|                SoHo|  World Trade Center|              1|         1.49|       14.16|      494|\n",
            "| 2021-04-28 18:43:30|  2021-04-29 02:02:52|       Wed|         Murray Hill|Financial Distric...|              1|         5.91|        23.3|    26362|\n",
            "| 2021-06-10 10:10:48|  2021-06-10 10:41:42|       Thu|   Battery Park City|Upper West Side S...|              1|         5.85|        31.4|     1854|\n",
            "| 2020-12-14 10:29:14|  2020-12-15 10:28:49|       Mon|Upper West Side S...|Upper East Side S...|              5|         1.48|       14.12|    86375|\n",
            "| 2020-12-23 07:19:35|  2020-12-24 07:18:46|       Wed| Little Italy/NoLiTa|   East Harlem South|              1|          7.0|        39.3|    86351|\n",
            "| 2021-05-20 02:40:50|  2021-05-20 02:47:10|       Thu|   Battery Park City|Financial Distric...|              1|         1.14|         9.8|      380|\n",
            "| 2020-12-29 13:29:57|  2020-12-30 13:29:15|       Tue|            Union Sq|Financial Distric...|              5|         2.63|        17.6|    86358|\n",
            "| 2021-01-01 00:10:00|  2021-01-01 00:30:47|       Fri|        East Chelsea|Washington Height...|              1|         9.74|        32.3|     1247|\n",
            "+--------------------+---------------------+----------+--------------------+--------------------+---------------+-------------+------------+---------+\n",
            "\n"
          ]
        }
      ]
    },
    {
      "cell_type": "code",
      "source": [
        "# Verifying\n",
        "spark.sql('SELECT * FROM df4 WHERE Pickup_Month =11 AND Pickup_Year = 2020 AND Pickup_Day = \"Mon\" ORDER BY Trip_Time DESC LIMIT 1').show()"
      ],
      "metadata": {
        "colab": {
          "base_uri": "https://localhost:8080/"
        },
        "id": "DqJPfMEgVxG9",
        "outputId": "58b33996-9f81-4ac7-a2eb-2f5b1975d2d1"
      },
      "execution_count": null,
      "outputs": [
        {
          "output_type": "stream",
          "name": "stdout",
          "text": [
            "+--------+--------------------+---------------------+---------------+-------------+----------+------------------+------------+----------+-----------------+--------------+------------+----------+----------------+--------------+------------+-----------+-----+-------+----------+------------+---------------------+------------+--------------------+-----------+----------+------------+-----------+-----------+-------------+-------------+------------+-----------+-------------+------------+------------+--------------+--------------+---------+\n",
            "|VendorID|tpep_pickup_datetime|tpep_dropoff_datetime|passenger_count|trip_distance|RatecodeID|store_and_fwd_flag|PULocationID|PU_Borough|          PU_Zone|PU_ServiceZone|DOLocationID|DO_Borough|         DO_Zone|DO_ServiceZone|payment_type|fare_amount|extra|mta_tax|tip_amount|tolls_amount|improvement_surcharge|total_amount|congestion_surcharge|Pickup_Date|Pickup_Day|Pickup_Month|Pickup_Year|Pickup_Hour|Pickup_Minute|Pickup_Second|Dropoff_Date|Dropoff_Day|Dropoff_Month|Dropoff_Year|Dropoff_Hour|Dropoff_Minute|Dropoff_Second|Trip_Time|\n",
            "+--------+--------------------+---------------------+---------------+-------------+----------+------------------+------------+----------+-----------------+--------------+------------+----------+----------------+--------------+------------+-----------+-----+-------+----------+------------+---------------------+------------+--------------------+-----------+----------+------------+-----------+-----------+-------------+-------------+------------+-----------+-------------+------------+------------+--------------+--------------+---------+\n",
            "|       2| 2020-11-30 13:23:38|  2020-12-01 12:44:12|              1|         8.64|         1|                 N|         138|    Queens|LaGuardia Airport|      Airports|         116| Manhattan|Hamilton Heights|     Boro Zone|           1|       26.5|  0.5|    0.5|       4.0|        6.12|                  0.3|       37.92|                 0.0|         30|       Mon|          11|       2020|         13|           23|           38|           1|        Tue|           12|        2020|          12|            44|            12|    84034|\n",
            "+--------+--------------------+---------------------+---------------+-------------+----------+------------------+------------+----------+-----------------+--------------+------------+----------+----------------+--------------+------------+-----------+-----+-------+----------+------------+---------------------+------------+--------------------+-----------+----------+------------+-----------+-----------+-------------+-------------+------------+-----------+-------------+------------+------------+--------------+--------------+---------+\n",
            "\n"
          ]
        }
      ]
    }
  ],
  "metadata": {
    "colab": {
      "collapsed_sections": [],
      "provenance": []
    },
    "kernelspec": {
      "display_name": "Python 3",
      "name": "python3"
    },
    "language_info": {
      "name": "python"
    }
  },
  "nbformat": 4,
  "nbformat_minor": 0
}